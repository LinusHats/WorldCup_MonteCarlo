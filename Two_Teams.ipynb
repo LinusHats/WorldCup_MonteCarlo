{
 "cells": [
  {
   "cell_type": "markdown",
   "metadata": {},
   "source": [
    "# Simulation von zwei Fußballteams\n",
    "- Wie kann man Datenstrukturen einsetzten um Ergebnisse fest zu halten?\n",
    "- Wie kann man mit Logik das Gewinnerteam feststellen und wie kann man die Spielergebnisse festhalten (update der Datenstruktur)\n",
    "- Printausgaben um das Ergebnis anzuzeigen"
   ]
  },
  {
   "cell_type": "code",
   "execution_count": 1,
   "metadata": {},
   "outputs": [],
   "source": [
    "import numpy as np"
   ]
  },
  {
   "cell_type": "code",
   "execution_count": 2,
   "metadata": {},
   "outputs": [],
   "source": [
    "# Initialisieren der Teams in dictionarys\n",
    "team1 = {\n",
    "    \"Name\": \"1. FC Köln\",\n",
    "    \"xG\": 1.66,\n",
    "    \"Goals For\": 0,\n",
    "    \"Goals Against\": 0,\n",
    "    \"Margin\": 0,\n",
    "    \"Games Played\": 0,\n",
    "    \"Games Won\": 0,\n",
    "    \"Games Lost\": 0,\n",
    "    \"Games Drawn\": 0,\n",
    "    \"Points\": 0,\n",
    "}\n",
    "team2 = {\n",
    "    \"Name\": \"Bor. Dortmund\",\n",
    "    \"xG\": 1.69,\n",
    "    \"Goals For\": 0,\n",
    "    \"Goals Against\": 0, \n",
    "    \"Margin\": 0,\n",
    "    \"Games Played\": 0,\n",
    "    \"Games Won\": 0,\n",
    "    \"Games Lost\": 0,\n",
    "    \"Games Drawn\": 0,\n",
    "    \"Points\": 0,\n",
    "}"
   ]
  },
  {
   "cell_type": "code",
   "execution_count": 3,
   "metadata": {},
   "outputs": [
    {
     "name": "stdout",
     "output_type": "stream",
     "text": [
      "{'Name': '1. FC Köln', 'xG': 1.66, 'Goals For': 4, 'Goals Against': 1, 'Margin': 3, 'Games Played': 1, 'Games Won': 1, 'Games Lost': 0, 'Games Drawn': 0, 'Points': 3}\n",
      "{'Name': 'Bor. Dortmund', 'xG': 1.69, 'Goals For': 1, 'Goals Against': 4, 'Margin': -3, 'Games Played': 1, 'Games Won': 0, 'Games Lost': 1, 'Games Drawn': 0, 'Points': 0}\n"
     ]
    }
   ],
   "source": [
    "# Teams gegeneinander antreten lassen:\n",
    "goals_team1 = np.random.poisson(team1[\"xG\"])\n",
    "goals_team2 = np.random.poisson(team2[\"xG\"])\n",
    "\n",
    "# Ermitteln des Gewinnerteams \n",
    "winning_team = None\n",
    "loosing_team = None\n",
    "if goals_team1 > goals_team2:\n",
    "    winning_team, winning_goals = team1, goals_team1\n",
    "    loosing_team, loosing_goals = team2, goals_team2\n",
    "\n",
    "elif goals_team2 > goals_team1:\n",
    "    winning_team, winning_goals = team2, goals_team2\n",
    "    loosing_team, loosing_goals = team1, goals_team1\n",
    "    \n",
    "# Eintragen der Spielstände in die dictionaries \n",
    "if winning_team == None: # Geleichstand?\n",
    "    for team in [team1, team2]: \n",
    "        team[\"Games Played\"] += 1\n",
    "        team[\"Games Drawn\"] += 1\n",
    "        team[\"Points\"] += 1\n",
    "        team[\"Goals For\"] = goals_team1\n",
    "        team[\"Goals Against\"] = goals_team1\n",
    "else:\n",
    "    for team in [team1, team2]:\n",
    "        team[\"Games Played\"] += 1\n",
    "    winning_team[\"Games Won\"] += 1\n",
    "    winning_team[\"Points\"] += 3\n",
    "    winning_team[\"Goals For\"] = winning_goals\n",
    "    winning_team[\"Goals Against\"] = loosing_goals\n",
    "    winning_team[\"Margin\"] += winning_goals - loosing_goals\n",
    "    loosing_team[\"Goals Against\"] = winning_goals\n",
    "    loosing_team[\"Goals For\"] = loosing_goals   \n",
    "    loosing_team[\"Games Lost\"] += 1\n",
    "    loosing_team[\"Margin\"] += loosing_goals - winning_goals\n",
    "print(team1)\n",
    "print(team2)\n"
   ]
  },
  {
   "cell_type": "code",
   "execution_count": 4,
   "metadata": {},
   "outputs": [
    {
     "name": "stdout",
     "output_type": "stream",
     "text": [
      "Gewonnen hat: 1. FC Köln\n",
      "===============================\n",
      "Spielergebnis: 4:1\n"
     ]
    }
   ],
   "source": [
    "# Noch ein paar print Statements \n",
    "if winning_team == None: # Geleichstand?\n",
    "    print(\"Gleichstand\")\n",
    "    print(\"===============================\")\n",
    "    print(\"Spielergebnis: {0}:{1}\".format(team1[\"Goals For\"], team2[\"Goals For\"]))\n",
    "else:\n",
    "    print(f\"Gewonnen hat: {winning_team['Name']}\")\n",
    "    print(\"===============================\")\n",
    "    print(\"Spielergebnis: {0}:{1}\".format(winning_team[\"Goals For\"], loosing_team[\"Goals For\"]))"
   ]
  },
  {
   "cell_type": "code",
   "execution_count": null,
   "metadata": {},
   "outputs": [],
   "source": []
  }
 ],
 "metadata": {
  "kernelspec": {
   "display_name": "Python 3",
   "language": "python",
   "name": "python3"
  },
  "language_info": {
   "codemirror_mode": {
    "name": "ipython",
    "version": 3
   },
   "file_extension": ".py",
   "mimetype": "text/x-python",
   "name": "python",
   "nbconvert_exporter": "python",
   "pygments_lexer": "ipython3",
   "version": "3.8.5"
  }
 },
 "nbformat": 4,
 "nbformat_minor": 4
}
