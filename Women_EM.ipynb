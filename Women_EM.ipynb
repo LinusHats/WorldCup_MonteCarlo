{
 "cells": [
  {
   "cell_type": "code",
   "execution_count": 1,
   "metadata": {},
   "outputs": [],
   "source": [
    "import pandas as pd\n",
    "import numpy as np\n",
    "import matplotlib.pyplot as plt\n",
    "from scipy.stats import poisson\n",
    "import itertools"
   ]
  },
  {
   "cell_type": "code",
   "execution_count": 2,
   "metadata": {},
   "outputs": [
    {
     "data": {
      "text/html": [
       "<div>\n",
       "<style scoped>\n",
       "    .dataframe tbody tr th:only-of-type {\n",
       "        vertical-align: middle;\n",
       "    }\n",
       "\n",
       "    .dataframe tbody tr th {\n",
       "        vertical-align: top;\n",
       "    }\n",
       "\n",
       "    .dataframe thead th {\n",
       "        text-align: right;\n",
       "    }\n",
       "</style>\n",
       "<table border=\"1\" class=\"dataframe\">\n",
       "  <thead>\n",
       "    <tr style=\"text-align: right;\">\n",
       "      <th></th>\n",
       "      <th>Team</th>\n",
       "      <th>group</th>\n",
       "      <th>FIFA_ranking</th>\n",
       "      <th>xG</th>\n",
       "      <th>games</th>\n",
       "      <th>win</th>\n",
       "      <th>loss</th>\n",
       "      <th>draw</th>\n",
       "      <th>Goals For</th>\n",
       "      <th>Goals Against</th>\n",
       "      <th>Points</th>\n",
       "      <th>Margin</th>\n",
       "    </tr>\n",
       "  </thead>\n",
       "  <tbody>\n",
       "    <tr>\n",
       "      <th>0</th>\n",
       "      <td>England</td>\n",
       "      <td>A</td>\n",
       "      <td>1982.05</td>\n",
       "      <td>2.538661</td>\n",
       "      <td>0</td>\n",
       "      <td>0</td>\n",
       "      <td>0</td>\n",
       "      <td>0</td>\n",
       "      <td>0</td>\n",
       "      <td>0</td>\n",
       "      <td>0</td>\n",
       "      <td>0</td>\n",
       "    </tr>\n",
       "    <tr>\n",
       "      <th>1</th>\n",
       "      <td>Norwegen</td>\n",
       "      <td>A</td>\n",
       "      <td>1914.90</td>\n",
       "      <td>2.452654</td>\n",
       "      <td>0</td>\n",
       "      <td>0</td>\n",
       "      <td>0</td>\n",
       "      <td>0</td>\n",
       "      <td>0</td>\n",
       "      <td>0</td>\n",
       "      <td>0</td>\n",
       "      <td>0</td>\n",
       "    </tr>\n",
       "    <tr>\n",
       "      <th>2</th>\n",
       "      <td>Österreich</td>\n",
       "      <td>A</td>\n",
       "      <td>1784.32</td>\n",
       "      <td>2.285403</td>\n",
       "      <td>0</td>\n",
       "      <td>0</td>\n",
       "      <td>0</td>\n",
       "      <td>0</td>\n",
       "      <td>0</td>\n",
       "      <td>0</td>\n",
       "      <td>0</td>\n",
       "      <td>0</td>\n",
       "    </tr>\n",
       "    <tr>\n",
       "      <th>3</th>\n",
       "      <td>Nordirland</td>\n",
       "      <td>A</td>\n",
       "      <td>1692.08</td>\n",
       "      <td>2.167260</td>\n",
       "      <td>0</td>\n",
       "      <td>0</td>\n",
       "      <td>0</td>\n",
       "      <td>0</td>\n",
       "      <td>0</td>\n",
       "      <td>0</td>\n",
       "      <td>0</td>\n",
       "      <td>0</td>\n",
       "    </tr>\n",
       "    <tr>\n",
       "      <th>4</th>\n",
       "      <td>Deutschland</td>\n",
       "      <td>B</td>\n",
       "      <td>2010.39</td>\n",
       "      <td>2.574960</td>\n",
       "      <td>0</td>\n",
       "      <td>0</td>\n",
       "      <td>0</td>\n",
       "      <td>0</td>\n",
       "      <td>0</td>\n",
       "      <td>0</td>\n",
       "      <td>0</td>\n",
       "      <td>0</td>\n",
       "    </tr>\n",
       "  </tbody>\n",
       "</table>\n",
       "</div>"
      ],
      "text/plain": [
       "          Team group  FIFA_ranking        xG  games  win  loss  draw  \\\n",
       "0      England     A       1982.05  2.538661      0    0     0     0   \n",
       "1     Norwegen     A       1914.90  2.452654      0    0     0     0   \n",
       "2   Österreich     A       1784.32  2.285403      0    0     0     0   \n",
       "3   Nordirland     A       1692.08  2.167260      0    0     0     0   \n",
       "4  Deutschland     B       2010.39  2.574960      0    0     0     0   \n",
       "\n",
       "   Goals For  Goals Against  Points  Margin  \n",
       "0          0              0       0       0  \n",
       "1          0              0       0       0  \n",
       "2          0              0       0       0  \n",
       "3          0              0       0       0  \n",
       "4          0              0       0       0  "
      ]
     },
     "execution_count": 2,
     "metadata": {},
     "output_type": "execute_result"
    }
   ],
   "source": [
    "df = pd.read_excel(\"Women.xlsx\")\n",
    "df[\"xG\"] = df.FIFA_ranking/df.FIFA_ranking.max() * 2.64             # Umrechnen der FIFA-Points in xG\n",
    "\n",
    "\n",
    "def reset_dataFrame(df = df):\n",
    "  '''\n",
    "  Reset aller Spielergebnisse\n",
    "  '''\n",
    "  df[\"games\"] = 0\n",
    "  df[\"win\"] = 0\n",
    "  df[\"loss\"] = 0\n",
    "  df[\"draw\"] = 0\n",
    "  df[\"Goals For\"] = 0\n",
    "  df[\"Goals Against\"] = 0\n",
    "  df[\"Points\"] = 0\n",
    "  df[\"Margin\"] = 0\n",
    "\n",
    "reset_dataFrame()\n",
    "df.head()                                                           # einmal schauen, ob alles geklappt hat"
   ]
  },
  {
   "cell_type": "markdown",
   "metadata": {},
   "source": [
    "## Modellierung der Spiele:\n",
    "Eine Funktion übernimmt die Spiele \"an sich\". Dazu werden einfach die Tore der Teams mit den vorher berechneten xG als Erwartungswert der Poisson-Funktion $\\lambda$ berechnet (`simulate_game`)\n",
    "\n",
    "Eine Weitere Funktion übernimmt das Updaten der des DataFrames (`game_data_in_Dataframe`)"
   ]
  },
  {
   "cell_type": "code",
   "execution_count": 3,
   "metadata": {},
   "outputs": [],
   "source": [
    "def simulate_game(team1_xG: float, team2_xG: float) -> list[int]:\n",
    "    '''\n",
    "    Utility Funktion zur Bestimmung der Tore beider Teams eines Spiels\n",
    "    '''\n",
    "    goals_t1 = np.random.poisson(team1_xG)\n",
    "    goals_t2 = np.random.poisson(team2_xG)\n",
    "    return [goals_t1, goals_t2]\n",
    "\n",
    "def game_data_in_Dataframe(team1: str, team2: str, goals_team1: int, goals_team2: int, dataFrame=df) -> None:\n",
    "    '''\n",
    "    Utility Funktion um die Spielergebnisse in das pandas.DataFrame einzupflegen\n",
    "    '''\n",
    "    dataFrame.loc[dataFrame.Team == team1, \"Goals For\"] += goals_team1\n",
    "    dataFrame.loc[dataFrame.Team == team1, \"Goals Against\"] += goals_team2\n",
    "    dataFrame.loc[dataFrame.Team == team2, \"Goals For\"] += goals_team2\n",
    "    dataFrame.loc[dataFrame.Team == team2, \"Goals Against\"] += goals_team1\n",
    "    dataFrame.loc[dataFrame.Team == team1, \"Margin\"] += goals_team1 - goals_team2\n",
    "    dataFrame.loc[dataFrame.Team == team2, \"Margin\"] += goals_team2 - goals_team1\n",
    "    if goals_team1 > goals_team2: # Team 1 gewinnt\n",
    "        dataFrame.loc[dataFrame.Team == team1, \"win\"] +=1\n",
    "        dataFrame.loc[dataFrame.Team == team2, \"loss\"] +=1\n",
    "    if goals_team1 < goals_team2: # Team 2 gewinnt\n",
    "        dataFrame.loc[dataFrame.Team == team1, \"loss\"] += 1\n",
    "        dataFrame.loc[dataFrame.Team == team2, \"win\"] += 1\n",
    "    if goals_team1 == goals_team2: # unentschieden\n",
    "        dataFrame.loc[dataFrame.Team == team1, \"draw\"] +=1\n",
    "        dataFrame.loc[dataFrame.Team == team2, \"draw\"] +=1\n",
    "    for team in [team1, team2]: # unabhängig vom Ergebnis...\n",
    "        dataFrame.loc[dataFrame.Team == team, \"games\"] +=1\n",
    "        dataFrame.loc[dataFrame.Team == team, \"Points\"] = dataFrame.loc[dataFrame.Team == team, \"win\"]*3 + dataFrame.loc[dataFrame.Team == team, \"draw\"]"
   ]
  },
  {
   "cell_type": "markdown",
   "metadata": {},
   "source": [
    "### Gruppenphase\n",
    "Nur die Spiele der Gruppenphase stehen fest, die restlichen ergeben sich aus deren Ergebnissen. Die Reihenfolge der Siele in der Gruppenphase ist dabei nicht relevant.\n",
    "________________\n",
    "\n",
    "Jede Mannschaft muss in der Gruppenphase gegen jede andere Mannschaft einmal Spielen. Die Funktion `itertools.combinations` erzeugt eine Liste aller möglichen Kombinationen der Mannschaften:"
   ]
  },
  {
   "cell_type": "code",
   "execution_count": 4,
   "metadata": {},
   "outputs": [],
   "source": [
    "def games_group_stage(group):\n",
    "    '''\n",
    "    Simulation aller Spiele innerhalb einer Gruppe\n",
    "    '''\n",
    "    for t in itertools.combinations(df.loc[df.group == group].Team,2):\n",
    "        team1, team2 = str(t[0]), str(t[1])\n",
    "        xG_team1 = df.loc[df.Team == team1].xG\n",
    "        xG_team2 = df.loc[df.Team == team2].xG\n",
    "        goals_team1, goals_team2 = simulate_game(xG_team1, xG_team2)\n",
    "        game_data_in_Dataframe(team1, team2, goals_team1, goals_team2)"
   ]
  },
  {
   "cell_type": "markdown",
   "metadata": {},
   "source": [
    "Für die Nächste Spielphase, das Achtelfinale werden die Gewinner und die Zweiten der Gruppenphase gebraucht. Diese werden wie folgt ermittelt:\n",
    "<ol>\n",
    "<li> Teams mit den Meisten Punkten\n",
    "<ol>\n",
    "<li> Pro gewonnenem Spiel gibt es 3 Punkte\n",
    "<li> Pro unentschiedenem Spiel gibt es 1 Punkt \n",
    "<li> Pro verlorenem Spiel gibt es 0 Punkte\n",
    "</ol>\n",
    "<li> Teams mit der größten Tordifferenz\n",
    "<li> Teams mit den meisten Toren aus allen Spielen der Gruppenphase\n",
    "</ol>"
   ]
  },
  {
   "cell_type": "code",
   "execution_count": 5,
   "metadata": {},
   "outputs": [],
   "source": [
    "def winner_group_phase(group_name: str):\n",
    "    '''\n",
    "    Funktion zur Ermittlung des Gewinnerteams einer Gruppe\n",
    "    '''\n",
    "    group_data = df.loc[df.group == group_name]                                                                     # Verglichen werden die Teams innerhalb einer Gruppe\n",
    "    sorted_by_points = group_data.sort_values(by=\"Points\", ascending=False)                                         # Sortieren nach Punkten (absteigend)\n",
    "    winner = \"\"\n",
    "    if len(sorted_by_points[sorted_by_points[\"Points\"] == sorted_by_points[\"Points\"].iloc[0]]) == 1:                # Wenn der höchste Wert bezüglich Punkte nur 1 mal vorkommt, steht der Gewinner fest\n",
    "            winner = sorted_by_points.iloc[0]\n",
    "    else:\n",
    "            possible_winners = sorted_by_points[sorted_by_points[\"Points\"] == sorted_by_points[\"Points\"].iloc[0]]   # Falls es mehrere Gewinner nach Punkten gibt, werden die punktgleichen Teams \n",
    "            sorted_by_margin = possible_winners.sort_values(by=\"Margin\", ascending=False)                           # nach Tordifferenz absteigend sortiert\n",
    "            if len(sorted_by_margin[sorted_by_margin[\"Margin\"] == sorted_by_margin[\"Margin\"].iloc[0]]) == 1:        # wenn der höchste Wett nur ein mal vorkommt, steht der Gewinner fest\n",
    "                    winner = sorted_by_margin.iloc[0]\n",
    "            else:\n",
    "                    sorted_by_goals_for = possible_winners.sort_values(by=\"Goals For\", ascending=False)             # Falls auch die Bedingung oben scheitert, wird nach Geschossenen Toren geschaut\n",
    "                    winner = sorted_by_goals_for.iloc[0]                                                            # Der Erste in dieser Liste gewinnt das...eigentlich müsste danach noch nach gelben Karten usw. geschaut werden...\n",
    "    return winner\n",
    "\n",
    "def second_group_phase(group_name: str):\n",
    "    '''\n",
    "    Funktion zur Ermittlung des zweit platzierten Teams einer Gruppe\n",
    "    '''\n",
    "    group_data = df.loc[df.group == group_name]\n",
    "    second = \"\"\n",
    "    sorted_by_points = group_data.sort_values(by=\"Points\", ascending=False)                                                                                             # Sortieren nach Punkten\n",
    "    if len(sorted_by_points[sorted_by_points[\"Points\"] == sorted_by_points[\"Points\"].max()]) > 1:                                                                       # Wenn mehr als einer höchste Punkte hat, hat der Gruppen Zweite die gleiche Punktzahl wie der Gruppen Erste\n",
    "            sorted_by_margin = sorted_by_points[sorted_by_points[\"Points\"] == sorted_by_points[\"Points\"].max()].sort_values(by=\"Margin\", ascending=False)               # Dann wird wieder nach Differenz geschaut\n",
    "            if len(sorted_by_margin[sorted_by_margin[\"Margin\"] == sorted_by_margin[\"Margin\"].max]) > 1:\n",
    "                    sorted_by_goals_for = sorted_by_margin[sorted_by_margin[\"Margin\"] == sorted_by_margin[\"Margin\"].max].sort_values(by=\"Goals For\", ascending=False)   # Dann nach geschossenen Toren\n",
    "                    second = sorted_by_goals_for.iloc[1]                                                                                                                # Wenn alle die Kriterien nicht ausreichen, wird halt der Zweite dieser Liste zweiter...\n",
    "            else: \n",
    "                second = sorted_by_margin.iloc[1]                                                                                                                       # Sonst Zweites Element der Liste zweiter\n",
    "    else:\n",
    "        second = sorted_by_points.iloc[1]\n",
    "    return second"
   ]
  },
  {
   "cell_type": "markdown",
   "metadata": {},
   "source": [
    "### Achtelfinale\n",
    "Im Achtelfinale gibt es kein Unentschieden mehr! In der Simulation wird das Spiel einfach wiederholt...<br>\n",
    "Das Achtelfinale gestaltet sich folgendermaßen:\n",
    "\n",
    "Spiel | Team 1 | Team 2 |\n",
    "------|--------|--------|\n",
    "1 | Gewinner A | Zweite B|\n",
    "2 | Gewinner C | Zweite D|\n",
    "3 | Gewinner E | Zweite F|\n",
    "4 | Gewinner G | Zweite H|\n",
    "5 | Gewinner B | Zweite A|\n",
    "6 | Gewinner D | Zweite C|\n",
    "7 | Gewinner F | Zweite E|\n",
    "8 | Gewinner H | Zweite G|\n"
   ]
  },
  {
   "cell_type": "code",
   "execution_count": 6,
   "metadata": {},
   "outputs": [],
   "source": [
    "def games_not_group_stage(names_team1: list[str], names_team2: list[str], winners_list: list[str]):\n",
    "    '''\n",
    "    Funktion zur Simulation von Spielen außerhalb der Gruppenphase\n",
    "    Params:\n",
    "    names_team1: Alle Namen der Teams1 in der Reihenfolge der Spiele\n",
    "    names_team2: Alle Namen der Teams2 in der Reihenfolge der Spiele\n",
    "    Return:\n",
    "    winners_list: Liste mit den Namen der Gewinner der Spiele\n",
    "    '''\n",
    "    for name_team1, name_team2 in zip(names_team1, names_team2):\n",
    "        xG_team1 = df.loc[df.Team == name_team1].xG                         # Auslesen der xG beider Teams\n",
    "        xG_team2 = df.loc[df.Team == name_team2].xG\n",
    "        goals_team1, goals_team2 = simulate_game(xG_team1, xG_team2)        # Spiel Simulieren\n",
    "        if goals_team1 == goals_team2:                                      # Kein Unentschieden erlaubt!\n",
    "            goals_team1, goals_team2 = simulate_game(xG_team1, xG_team2)    # Spiel wiederholen\n",
    "        if goals_team1 > goals_team2:\n",
    "            winners_list.append(name_team1)\n",
    "        else:\n",
    "            winners_list.append(name_team2)\n",
    "        game_data_in_Dataframe(name_team1, name_team2, goals_team1, goals_team2)"
   ]
  },
  {
   "cell_type": "markdown",
   "metadata": {},
   "source": [
    "Der Folgende CodeBlock ruft jetzt die oben definierten Funktionen in der korrekten Reihenfolge auf:"
   ]
  },
  {
   "cell_type": "code",
   "execution_count": 7,
   "metadata": {},
   "outputs": [],
   "source": [
    "winner = []\n",
    "points = []                                                                        # Array um die Gewinnerteams dokumentieren zu können\n",
    "for j in range(1000):                                                                # Wie oft soll der Worldcup simuliert werden?\n",
    "    reset_dataFrame()                                                              # SpielDaten zurücksetzten\n",
    "    for team in df.group.unique():\n",
    "        games_group_stage(team)                                                    # Spiele der Gruppenphase simulieren   \n",
    "    list_names_team1 = [winner_group_phase(i).Team for i in [\"A\", \"C\", \"B\", \"D\"]] # Vorbereiten der Listen für das Achtelfinale\n",
    "    list_names_team2 = [second_group_phase(i).Team for i in [\"B\", \"D\", \"A\", \"C\"]]\n",
    "    winners_quater = []\n",
    "    games_not_group_stage(list_names_team1,\n",
    "                          list_names_team2,\n",
    "                          winners_quater)                                     # Simulation Achtelfinale\n",
    "\n",
    "    # list_names_team1_quarter = [winners_round_of_16[i] for i in [0,2]]         # 0 ggn. 1, 2 ggn. 3...\n",
    "    # list_names_team2_quarter = [winners_round_of_16[i] for i in [1,3]]\n",
    "    # winners_quarter_finals = []\n",
    "    # games_not_group_stage(list_names_team1_quarter,\n",
    "    #                       list_names_team2_quarter,\n",
    "    #                       winners_quarter_finals)                                  # Simulation Viertelfinale\n",
    "\n",
    "    list_names_team1_semi = [winners_quater[i] for i in [0,2]]                       # 0 ggn. 1, 2 ggn. 3...\n",
    "    list_names_team2_semi = [winners_quater[i] for i in [1,3]]\n",
    "    winners_semi_finals = []\n",
    "    games_not_group_stage(list_names_team1_semi,\n",
    "                          list_names_team2_semi,\n",
    "                          winners_semi_finals)                                       # Simulation Halbfinale\n",
    "\n",
    "    list_names_team1_final = [winners_semi_finals[i] for i in [0]]\n",
    "    list_names_team2_final = [winners_semi_finals[i] for i in [1]]\n",
    "    winner_finals = []\n",
    "    games_not_group_stage(list_names_team1_final,\n",
    "                          list_names_team2_final,\n",
    "                          winner_finals)\n",
    "\n",
    "    winner.append(winner_finals[0])                                                # Dokumentation Gewinner\n",
    "    # df.to_csv(f\"games/game_{j}.csv\", index=False)                                # Wer will kann jetzt Daten in großen Mengen produzieren^^"
   ]
  },
  {
   "cell_type": "markdown",
   "metadata": {},
   "source": [
    "## Auswertung\n",
    "Hier kann man sicher einiges machen......"
   ]
  },
  {
   "cell_type": "code",
   "execution_count": 8,
   "metadata": {},
   "outputs": [],
   "source": [
    "value, count = np.unique(winner, return_counts=True)\n",
    "stats = pd.DataFrame()\n",
    "stats[\"Team\"] = value\n",
    "stats[\"win_count\"] = count\n",
    "stats.sort_values(by=\"win_count\", ascending=False, inplace=True)"
   ]
  },
  {
   "cell_type": "code",
   "execution_count": 9,
   "metadata": {
    "scrolled": true
   },
   "outputs": [
    {
     "data": {
      "image/png": "[encoded data removed]",
      "text/plain": [
       "<Figure size 432x288 with 1 Axes>"
      ]
     },
     "metadata": {
      "needs_background": "light"
     },
     "output_type": "display_data"
    }
   ],
   "source": [
    "import seaborn as sns\n",
    "plt.plot(stats.Team, stats.win_count/len(winner), marker=\"o\")\n",
    "plt.xticks(rotation=90);"
   ]
  },
  {
   "cell_type": "code",
   "execution_count": 10,
   "metadata": {},
   "outputs": [],
   "source": [
    "def append_multiple_lines(file_name, lines_to_append):\n",
    "    # Open the file in append & read mode ('a+')\n",
    "    with open(file_name, \"a+\") as file_object:\n",
    "        appendEOL = False\n",
    "        # Move read cursor to the start of file.\n",
    "        file_object.seek(0)\n",
    "        # Check if file is not empty\n",
    "        data = file_object.read(100)\n",
    "        if len(data) > 0:\n",
    "            appendEOL = True\n",
    "        # Iterate over each string in the list\n",
    "        for line in lines_to_append:\n",
    "            # If file is not empty then append '\\n' before first line for\n",
    "            # other lines always append '\\n' before appending line\n",
    "            if appendEOL == True:\n",
    "                file_object.write(\"\\n\")\n",
    "            else:\n",
    "                appendEOL = True\n",
    "            # Append element at the end of file\n",
    "            file_object.write(line)"
   ]
  },
  {
   "cell_type": "code",
   "execution_count": 11,
   "metadata": {},
   "outputs": [],
   "source": [
    "append_multiple_lines(\"run.txt\", winner)"
   ]
  },
  {
   "cell_type": "code",
   "execution_count": 12,
   "metadata": {},
   "outputs": [
    {
     "data": {
      "image/png": "[encoded data removed]",
      "text/plain": [
       "<Figure size 432x288 with 1 Axes>"
      ]
     },
     "metadata": {
      "needs_background": "light"
     },
     "output_type": "display_data"
    }
   ],
   "source": [
    "winner_total = pd.read_csv(\"run.txt\", header=None, encoding= \"iso-8859-15\")\n",
    "value, count = np.unique(winner_total, return_counts=True)\n",
    "stats = pd.DataFrame()\n",
    "stats[\"Team\"] = value\n",
    "stats[\"win_count\"] = count\n",
    "stats.sort_values(by=\"win_count\", ascending=False, inplace=True)\n",
    "plt.plot(stats.Team, stats.win_count, marker=\"o\")\n",
    "plt.title(\"WC's simulated: {}\".format(len(winner_total)))\n",
    "plt.ylabel(\"Wins\")\n",
    "plt.xlabel(\"Team Names\")\n",
    "plt.xticks(rotation=90);"
   ]
  }
 ],
 "metadata": {
  "kernelspec": {
   "display_name": "Python 3 (ipykernel)",
   "language": "python",
   "name": "python3"
  },
  "language_info": {
   "codemirror_mode": {
    "name": "ipython",
    "version": 3
   },
   "file_extension": ".py",
   "mimetype": "text/x-python",
   "name": "python",
   "nbconvert_exporter": "python",
   "pygments_lexer": "ipython3",
   "version": "3.9.12"
  },
  "latex_envs": {
   "LaTeX_envs_menu_present": true,
   "autoclose": true,
   "autocomplete": true,
   "bibliofile": "biblio.bib",
   "cite_by": "apalike",
   "current_citInitial": 1,
   "eqLabelWithNumbers": true,
   "eqNumInitial": 1,
   "hotkeys": {
    "equation": "Ctrl-E",
    "itemize": "Ctrl-I"
   },
   "labels_anchors": false,
   "latex_user_defs": false,
   "report_style_numbering": false,
   "user_envs_cfg": false
  },
  "toc": {
   "base_numbering": 1,
   "nav_menu": {},
   "number_sections": true,
   "sideBar": true,
   "skip_h1_title": false,
   "title_cell": "Table of Contents",
   "title_sidebar": "Contents",
   "toc_cell": false,
   "toc_position": {},
   "toc_section_display": true,
   "toc_window_display": false
  },
  "vscode": {
   "interpreter": {
    "hash": "40d3a090f54c6569ab1632332b64b2c03c39dcf918b08424e98f38b5ae0af88f"
   }
  }
 },
 "nbformat": 4,
 "nbformat_minor": 4
}
