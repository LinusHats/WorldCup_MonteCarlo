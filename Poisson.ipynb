{
 "cells": [
  {
   "cell_type": "markdown",
   "metadata": {
    "slideshow": {
     "slide_type": "slide"
    }
   },
   "source": [
    "# Poisson Verteilung:\n",
    "- Mittels `numpy.random` eine Liste mit Zufallszahlen füllen\n",
    "- Häufigkeit aller Zahlen herausfinden \n",
    "- Graphisch auswerten\n",
    "    - Plot der Verteilung \n",
    "    - curve fit durch die Verteilung (Polynomisch)\n",
    "- Einlesen von echten Spielergebnissen + Vergleich"
   ]
  },
  {
   "cell_type": "code",
   "execution_count": 3,
   "metadata": {
    "slideshow": {
     "slide_type": "slide"
    }
   },
   "outputs": [],
   "source": [
    "import numpy as np\n",
    "import matplotlib.pyplot as plt\n",
    "import scipy.optimize \n",
    "import pandas as pd\n",
    "import scipy.stats\n",
    "%matplotlib inline"
   ]
  },
  {
   "cell_type": "markdown",
   "metadata": {
    "slideshow": {
     "slide_type": "slide"
    }
   },
   "source": [
    "## Liste erstellen"
   ]
  },
  {
   "cell_type": "code",
   "execution_count": 4,
   "metadata": {
    "slideshow": {
     "slide_type": "fragment"
    }
   },
   "outputs": [],
   "source": [
    "poisson_list = []               # Instanziieren der (noch) leeren Liste"
   ]
  },
  {
   "cell_type": "code",
   "execution_count": 5,
   "metadata": {
    "slideshow": {
     "slide_type": "fragment"
    }
   },
   "outputs": [
    {
     "data": {
      "text/plain": [
       "[9, 3, 5, 6, 6, 4, 9, 4, 6, 2]"
      ]
     },
     "execution_count": 5,
     "metadata": {},
     "output_type": "execute_result"
    }
   ],
   "source": [
    "n = 500\n",
    "Lambda = 5\n",
    "\n",
    "for i in range(n):\n",
    "    poisson_list.append(np.random.poisson(Lambda)) # Füllen der Liste\n",
    "\n",
    "poisson_list[0:10]             # Anzeigen der ersten 10 Listenelemente "
   ]
  },
  {
   "cell_type": "markdown",
   "metadata": {
    "slideshow": {
     "slide_type": "slide"
    }
   },
   "source": [
    "## Darstellen der Ergebnisse"
   ]
  },
  {
   "cell_type": "code",
   "execution_count": 3,
   "metadata": {
    "slideshow": {
     "slide_type": "fragment"
    }
   },
   "outputs": [
    {
     "data": {
      "image/png": "[encoded data removed]",
      "text/plain": [
       "<Figure size 432x288 with 1 Axes>"
      ]
     },
     "metadata": {
      "needs_background": "light"
     },
     "output_type": "display_data"
    }
   ],
   "source": [
    "fig, ax = plt.subplots()\n",
    "ax.scatter([i for i in range(n)], poisson_list)\n",
    "ax.set(ylabel=\"Number\", xlabel=\"Index\");"
   ]
  },
  {
   "cell_type": "markdown",
   "metadata": {
    "slideshow": {
     "slide_type": "slide"
    }
   },
   "source": [
    "## Häufigkeit der Zahlen"
   ]
  },
  {
   "cell_type": "code",
   "execution_count": 6,
   "metadata": {
    "slideshow": {
     "slide_type": "subslide"
    }
   },
   "outputs": [],
   "source": [
    "def count_occurences(list_to_check: list) -> list:\n",
    "    '''\n",
    "    welche Elemente kommen in der Liste vor und wie oft?\n",
    "    '''\n",
    "    members = []\n",
    "    occurence = []\n",
    "    list_to_check.sort()\n",
    "    members.append(list_to_check[0])\n",
    "    for i, number_from_list in enumerate(list_to_check[0:-1]):\n",
    "        if number_from_list != list_to_check[i+1]:\n",
    "            members.append(list_to_check[i+1])\n",
    "    for member in members:\n",
    "        count = 0\n",
    "        for number_from_list in list_to_check:\n",
    "            if number_from_list == member:\n",
    "                count +=1\n",
    "        occurence.append(count)\n",
    "    return members, occurence"
   ]
  },
  {
   "cell_type": "code",
   "execution_count": 7,
   "metadata": {
    "slideshow": {
     "slide_type": "subslide"
    }
   },
   "outputs": [],
   "source": [
    "number, count = np.unique(poisson_list, return_counts=True)"
   ]
  },
  {
   "cell_type": "markdown",
   "metadata": {
    "slideshow": {
     "slide_type": "slide"
    }
   },
   "source": [
    "## Plot der Verteilungsdichte"
   ]
  },
  {
   "cell_type": "code",
   "execution_count": 8,
   "metadata": {
    "slideshow": {
     "slide_type": "fragment"
    }
   },
   "outputs": [
    {
     "data": {
      "image/png": "[encoded data removed]",
      "text/plain": [
       "<Figure size 432x288 with 1 Axes>"
      ]
     },
     "metadata": {
      "needs_background": "light"
     },
     "output_type": "display_data"
    }
   ],
   "source": [
    "fig, ax = plt.subplots()\n",
    "ax.scatter(number, [i/n for i in count])\n",
    "ax.set(xlabel=\"number\", ylabel=\"normalized count\");"
   ]
  },
  {
   "cell_type": "markdown",
   "metadata": {
    "slideshow": {
     "slide_type": "slide"
    }
   },
   "source": [
    "## Curve fit"
   ]
  },
  {
   "cell_type": "code",
   "execution_count": 9,
   "metadata": {
    "slideshow": {
     "slide_type": "fragment"
    }
   },
   "outputs": [],
   "source": [
    "# Definition der Polynome\n",
    "def pol2(x, a,b,c):\n",
    "    return a*x**2+b*x+c\n",
    "def pol3(x, a,b,c,d):\n",
    "    return a*x**3+b*x**2+c*x+d\n",
    "def pol4(x, a,b,c,d,e):\n",
    "    return a*x**4+b*x**3+c*x**2+d*x+e\n",
    "def pol5(x, a,b,c,d,e,f):\n",
    "    return a*x**5+b*x**4+c*x**3+d*x**2*e*x+f\n",
    "def pol6(x, a,b,c,d,e,f,g):\n",
    "    return a*x**6+b*x**5+c*x**4+d*x**3*e*x**2*f*x*g"
   ]
  },
  {
   "cell_type": "code",
   "execution_count": 10,
   "metadata": {
    "slideshow": {
     "slide_type": "skip"
    }
   },
   "outputs": [],
   "source": [
    "def poisson_func(k: int, lamb: float) -> int:\n",
    "    '''poisson Funktion für den Fit'''\n",
    "    return scipy.stats.poisson.pmf(k, lamb)"
   ]
  },
  {
   "cell_type": "code",
   "execution_count": 11,
   "metadata": {
    "slideshow": {
     "slide_type": "subslide"
    }
   },
   "outputs": [
    {
     "data": {
      "image/png": "[encoded data removed]",
      "text/plain": [
       "<Figure size 432x288 with 1 Axes>"
      ]
     },
     "metadata": {
      "needs_background": "light"
     },
     "output_type": "display_data"
    }
   ],
   "source": [
    "newx = np.linspace(min(poisson_list), max(poisson_list)) # neue x-werte\n",
    "\n",
    "## plot der daten + fit(s)\n",
    "fig,ax = plt.subplots()\n",
    "ax.plot(number, [i/n for i in count],ls=\"\", marker=\"o\",color=\"tab:blue\", label=\"Distribution\")\n",
    "\n",
    "# popt, pcov = scipy.optimize.curve_fit(pol2, number, [i/n for i in count], )\n",
    "# ax.plot(newx, pol2(newx, *popt), label=\"2nd. deg.\")\n",
    "\n",
    "popt, pcov = scipy.optimize.curve_fit(pol3, number, [i/n for i in count], ) # fit an Polynom 3. Ordnung\n",
    "ax.plot(newx, pol3(newx, *popt), label=\"3rd. deg\")                          # plot des Polynoms mit \"neuen x-werten\" \n",
    "\n",
    "popt, pcov = scipy.optimize.curve_fit(pol4, number, [i/n for i in count], ) # fit an Polynom 4. Ordnung\n",
    "ax.plot(newx, pol4(newx, *popt), label=\"4th. deg\")\n",
    "\n",
    "popt, pcov = scipy.optimize.curve_fit(pol5, number, [i/n for i in count], )\n",
    "ax.plot(newx, pol5(newx, *popt), label=\"5th. deg\")\n",
    "\n",
    "# popt, pcov = scipy.optimize.curve_fit(pol6, number, [i/n for i in count], )\n",
    "# ax.plot(newx, pol6(newx, *popt), label=\"6th. deg\")\n",
    "\n",
    "# popt, pcov = scipy.optimize.curve_fit(poisson_func, number, [i/n for i in count]) # fit\n",
    "# ax.plot(number, poisson_func(number, *popt), label=\"Fit\")\n",
    "\n",
    "ax.set(ylabel=\"normalized count\", xlabel=\"number\", title=r\"$\\lambda(fit) = {0:.3f}\\;|\\; \\lambda(real) = {1:.3f}$\".format(popt[0], Lambda))\n",
    "ax.legend();"
   ]
  },
  {
   "cell_type": "markdown",
   "metadata": {
    "slideshow": {
     "slide_type": "slide"
    }
   },
   "source": [
    "## Eignung der Poisson-Verteilung:\n",
    "- Daten aus vergangen Spielen einlesen\n",
    "- Häufigkeitsverteilung erstellen + plotten\n",
    "- Poissonverteilung erstellen + plotten "
   ]
  },
  {
   "cell_type": "markdown",
   "metadata": {
    "slideshow": {
     "slide_type": "fragment"
    }
   },
   "source": [
    "### Für eine Saison --> eine einzulesende Datei"
   ]
  },
  {
   "cell_type": "code",
   "execution_count": 12,
   "metadata": {
    "slideshow": {
     "slide_type": "subslide"
    }
   },
   "outputs": [
    {
     "data": {
      "text/html": [
       "<div><div id=951f0ec5-7654-4978-ab2b-d828c2952c15 style=\"display:none; background-color:#9D6CFF; color:white; width:200px; height:30px; padding-left:5px; border-radius:4px; flex-direction:row; justify-content:space-around; align-items:center;\" onmouseover=\"this.style.backgroundColor='#BA9BF8'\" onmouseout=\"this.style.backgroundColor='#9D6CFF'\" onclick=\"window.commands?.execute('create-mitosheet-from-dataframe-output');\">See Full Dataframe in Mito</div> <script> if (window.commands.hasCommand('create-mitosheet-from-dataframe-output')) document.getElementById('951f0ec5-7654-4978-ab2b-d828c2952c15').style.display = 'flex' </script> <table border=\"1\" class=\"dataframe\">\n",
       "  <thead>\n",
       "    <tr style=\"text-align: right;\">\n",
       "      <th></th>\n",
       "      <th>Date</th>\n",
       "      <th>Home</th>\n",
       "      <th>Goals Home</th>\n",
       "      <th>Away</th>\n",
       "      <th>Goals Away</th>\n",
       "      <th>Referee</th>\n",
       "      <th>Result</th>\n",
       "    </tr>\n",
       "  </thead>\n",
       "  <tbody>\n",
       "    <tr>\n",
       "      <th>0</th>\n",
       "      <td>2021-05-22</td>\n",
       "      <td>Bayern Munich</td>\n",
       "      <td>5</td>\n",
       "      <td>Augsburg</td>\n",
       "      <td>2</td>\n",
       "      <td>NaN</td>\n",
       "      <td>H</td>\n",
       "    </tr>\n",
       "    <tr>\n",
       "      <th>1</th>\n",
       "      <td>2021-05-22</td>\n",
       "      <td>Dortmund</td>\n",
       "      <td>3</td>\n",
       "      <td>Leverkusen</td>\n",
       "      <td>1</td>\n",
       "      <td>NaN</td>\n",
       "      <td>H</td>\n",
       "    </tr>\n",
       "    <tr>\n",
       "      <th>2</th>\n",
       "      <td>2021-05-22</td>\n",
       "      <td>Ein Frankfurt</td>\n",
       "      <td>3</td>\n",
       "      <td>Freiburg</td>\n",
       "      <td>1</td>\n",
       "      <td>NaN</td>\n",
       "      <td>H</td>\n",
       "    </tr>\n",
       "    <tr>\n",
       "      <th>3</th>\n",
       "      <td>2021-05-22</td>\n",
       "      <td>FC Koln</td>\n",
       "      <td>1</td>\n",
       "      <td>Schalke 04</td>\n",
       "      <td>0</td>\n",
       "      <td>NaN</td>\n",
       "      <td>H</td>\n",
       "    </tr>\n",
       "    <tr>\n",
       "      <th>4</th>\n",
       "      <td>2021-05-22</td>\n",
       "      <td>Hoffenheim</td>\n",
       "      <td>2</td>\n",
       "      <td>Hertha</td>\n",
       "      <td>1</td>\n",
       "      <td>NaN</td>\n",
       "      <td>H</td>\n",
       "    </tr>\n",
       "    <tr>\n",
       "      <th>...</th>\n",
       "      <td>...</td>\n",
       "      <td>...</td>\n",
       "      <td>...</td>\n",
       "      <td>...</td>\n",
       "      <td>...</td>\n",
       "      <td>...</td>\n",
       "      <td>...</td>\n",
       "    </tr>\n",
       "    <tr>\n",
       "      <th>301</th>\n",
       "      <td>2020-09-19</td>\n",
       "      <td>Stuttgart</td>\n",
       "      <td>2</td>\n",
       "      <td>Freiburg</td>\n",
       "      <td>3</td>\n",
       "      <td>NaN</td>\n",
       "      <td>A</td>\n",
       "    </tr>\n",
       "    <tr>\n",
       "      <th>302</th>\n",
       "      <td>2020-09-19</td>\n",
       "      <td>Union Berlin</td>\n",
       "      <td>1</td>\n",
       "      <td>Augsburg</td>\n",
       "      <td>3</td>\n",
       "      <td>NaN</td>\n",
       "      <td>A</td>\n",
       "    </tr>\n",
       "    <tr>\n",
       "      <th>303</th>\n",
       "      <td>2020-09-19</td>\n",
       "      <td>Werder Bremen</td>\n",
       "      <td>1</td>\n",
       "      <td>Hertha</td>\n",
       "      <td>4</td>\n",
       "      <td>NaN</td>\n",
       "      <td>A</td>\n",
       "    </tr>\n",
       "    <tr>\n",
       "      <th>304</th>\n",
       "      <td>2020-09-19</td>\n",
       "      <td>Dortmund</td>\n",
       "      <td>3</td>\n",
       "      <td>M'gladbach</td>\n",
       "      <td>0</td>\n",
       "      <td>NaN</td>\n",
       "      <td>H</td>\n",
       "    </tr>\n",
       "    <tr>\n",
       "      <th>305</th>\n",
       "      <td>2020-09-18</td>\n",
       "      <td>Bayern Munich</td>\n",
       "      <td>8</td>\n",
       "      <td>Schalke 04</td>\n",
       "      <td>0</td>\n",
       "      <td>NaN</td>\n",
       "      <td>H</td>\n",
       "    </tr>\n",
       "  </tbody>\n",
       "</table></div>"
      ],
      "text/plain": [
       "          Date           Home  Goals Home        Away  Goals Away  Referee  \\\n",
       "0   2021-05-22  Bayern Munich           5    Augsburg           2      NaN   \n",
       "1   2021-05-22       Dortmund           3  Leverkusen           1      NaN   \n",
       "2   2021-05-22  Ein Frankfurt           3    Freiburg           1      NaN   \n",
       "3   2021-05-22        FC Koln           1  Schalke 04           0      NaN   \n",
       "4   2021-05-22     Hoffenheim           2      Hertha           1      NaN   \n",
       "..         ...            ...         ...         ...         ...      ...   \n",
       "301 2020-09-19      Stuttgart           2    Freiburg           3      NaN   \n",
       "302 2020-09-19   Union Berlin           1    Augsburg           3      NaN   \n",
       "303 2020-09-19  Werder Bremen           1      Hertha           4      NaN   \n",
       "304 2020-09-19       Dortmund           3  M'gladbach           0      NaN   \n",
       "305 2020-09-18  Bayern Munich           8  Schalke 04           0      NaN   \n",
       "\n",
       "    Result  \n",
       "0       H   \n",
       "1       H   \n",
       "2       H   \n",
       "3       H   \n",
       "4       H   \n",
       "..     ...  \n",
       "301     A   \n",
       "302     A   \n",
       "303     A   \n",
       "304     H   \n",
       "305     H   \n",
       "\n",
       "[306 rows x 7 columns]"
      ]
     },
     "execution_count": 12,
     "metadata": {},
     "output_type": "execute_result"
    }
   ],
   "source": [
    "df = pd.read_excel(\"FootStats_2021.xlsx\") # Einlesen der Datei\n",
    "df.rename(columns={\"Unnamed: 2\": \"Goals Home\", \"Unnamed: 4\": \"Goals Away\"}, inplace=True) # Aufräumen\n",
    "df # Ausgabe der Tabelle"
   ]
  },
  {
   "cell_type": "code",
   "execution_count": 13,
   "metadata": {
    "slideshow": {
     "slide_type": "subslide"
    }
   },
   "outputs": [
    {
     "data": {
      "image/png": "[encoded data removed]",
      "text/plain": [
       "<Figure size 432x288 with 1 Axes>"
      ]
     },
     "metadata": {
      "needs_background": "light"
     },
     "output_type": "display_data"
    }
   ],
   "source": [
    "# Plot der Spielergebnisse\n",
    "fig, ax = plt.subplots()\n",
    "ax.scatter(df.index, df[\"Goals Home\"], label=\"Goals Home\")\n",
    "ax.scatter(df.index, df[\"Goals Away\"], label=\"Goals Away\")\n",
    "ax.set(ylabel=\"Goals\", xlabel=\"Index\")\n",
    "ax.legend();"
   ]
  },
  {
   "cell_type": "code",
   "execution_count": 10,
   "metadata": {
    "slideshow": {
     "slide_type": "subslide"
    }
   },
   "outputs": [],
   "source": [
    "frequency_dist_home = np.unique(df[\"Goals Home\"], return_counts=True)\n",
    "frequency_dist_away = np.unique(df[\"Goals Away\"], return_counts=True)"
   ]
  },
  {
   "cell_type": "code",
   "execution_count": 11,
   "metadata": {
    "slideshow": {
     "slide_type": "fragment"
    }
   },
   "outputs": [
    {
     "data": {
      "image/png": "[encoded data removed]",
      "text/plain": [
       "<Figure size 432x288 with 1 Axes>"
      ]
     },
     "metadata": {
      "needs_background": "light"
     },
     "output_type": "display_data"
    }
   ],
   "source": [
    "# Plot der Verteilungsdichte\n",
    "fig, ax = plt.subplots()\n",
    "ax.plot(frequency_dist_home[0], frequency_dist_home[1]/len(df), marker=\"o\", ls=\"\", label=\"Goals Home\")\n",
    "ax.plot(frequency_dist_away[0], frequency_dist_away[1]/len(df), marker=\"o\", ls=\"\", label=\"Goals Away\")\n",
    "\n",
    "ax.set(ylabel=\"Noralized Frequency\", xlabel=\"Number\")\n",
    "ax.legend();"
   ]
  },
  {
   "cell_type": "code",
   "execution_count": 12,
   "metadata": {
    "slideshow": {
     "slide_type": "subslide"
    }
   },
   "outputs": [
    {
     "data": {
      "image/png": "[encoded data removed]",
      "text/plain": [
       "<Figure size 432x288 with 1 Axes>"
      ]
     },
     "metadata": {
      "needs_background": "light"
     },
     "output_type": "display_data"
    }
   ],
   "source": [
    "# Vergleich mit einer Poisson-Verteilung\n",
    "n = 10000\n",
    "Lambda = 1.455\n",
    "frequency_dist_poisson = np.unique(np.random.poisson(Lambda, n), return_counts=True) # Erzeugen der Possion verteilung + Zählen der Häufigkeiten der Ereignisse\n",
    "\n",
    "fig, ax = plt.subplots()\n",
    "ax.plot(frequency_dist_home[0], frequency_dist_home[1]/len(df), marker=\"o\", ls=\"\", label=\"Goals Home\")\n",
    "ax.plot(frequency_dist_away[0], frequency_dist_away[1]/len(df), marker=\"o\", ls=\"\", label=\"Goals Away\")\n",
    "ax.plot(frequency_dist_poisson[0], frequency_dist_poisson[1]/n, marker=\"o\", ls=\"\", label=\"Poission\")\n",
    "\n",
    "ax.set(ylabel=\"Noralized Frequency\", xlabel=\"Number\")\n",
    "ax.legend();"
   ]
  },
  {
   "cell_type": "markdown",
   "metadata": {
    "slideshow": {
     "slide_type": "slide"
    }
   },
   "source": [
    "### Für mehrere Saisons --> mehrere einzulesende Dateien"
   ]
  },
  {
   "cell_type": "code",
   "execution_count": 13,
   "metadata": {
    "slideshow": {
     "slide_type": "subslide"
    }
   },
   "outputs": [],
   "source": [
    "data_Bundesliga = []             # leeres array um die Daten zu halten\n",
    "for season in [\"2021\", \"2122\"]:\n",
    "    df = pd.read_excel(\"FootStats_{}.xlsx\".format(season)) # einlesen der Daten und speichern im Array\n",
    "    data_Bundesliga.append(df)"
   ]
  },
  {
   "cell_type": "code",
   "execution_count": 14,
   "metadata": {
    "slideshow": {
     "slide_type": "subslide"
    }
   },
   "outputs": [
    {
     "data": {
      "text/html": [
       "<div><div id=5ede404b-c133-44ec-bfc6-1f87267a537b style=\"display:none; background-color:#9D6CFF; color:white; width:200px; height:30px; padding-left:5px; border-radius:4px; flex-direction:row; justify-content:space-around; align-items:center;\" onmouseover=\"this.style.backgroundColor='#BA9BF8'\" onmouseout=\"this.style.backgroundColor='#9D6CFF'\" onclick=\"window.commands?.execute('create-mitosheet-from-dataframe-output');\">See Full Dataframe in Mito</div> <script> if (window.commands.hasCommand('create-mitosheet-from-dataframe-output')) document.getElementById('5ede404b-c133-44ec-bfc6-1f87267a537b').style.display = 'flex' </script> <table border=\"1\" class=\"dataframe\">\n",
       "  <thead>\n",
       "    <tr style=\"text-align: right;\">\n",
       "      <th></th>\n",
       "      <th>Date</th>\n",
       "      <th>Home</th>\n",
       "      <th>Goals Home</th>\n",
       "      <th>Away</th>\n",
       "      <th>Goals Away</th>\n",
       "      <th>Referee</th>\n",
       "      <th>Result</th>\n",
       "    </tr>\n",
       "  </thead>\n",
       "  <tbody>\n",
       "    <tr>\n",
       "      <th>0</th>\n",
       "      <td>2021-05-22</td>\n",
       "      <td>Bayern Munich</td>\n",
       "      <td>5</td>\n",
       "      <td>Augsburg</td>\n",
       "      <td>2</td>\n",
       "      <td>NaN</td>\n",
       "      <td>H</td>\n",
       "    </tr>\n",
       "    <tr>\n",
       "      <th>1</th>\n",
       "      <td>2021-05-22</td>\n",
       "      <td>Dortmund</td>\n",
       "      <td>3</td>\n",
       "      <td>Leverkusen</td>\n",
       "      <td>1</td>\n",
       "      <td>NaN</td>\n",
       "      <td>H</td>\n",
       "    </tr>\n",
       "    <tr>\n",
       "      <th>2</th>\n",
       "      <td>2021-05-22</td>\n",
       "      <td>Ein Frankfurt</td>\n",
       "      <td>3</td>\n",
       "      <td>Freiburg</td>\n",
       "      <td>1</td>\n",
       "      <td>NaN</td>\n",
       "      <td>H</td>\n",
       "    </tr>\n",
       "    <tr>\n",
       "      <th>3</th>\n",
       "      <td>2021-05-22</td>\n",
       "      <td>FC Koln</td>\n",
       "      <td>1</td>\n",
       "      <td>Schalke 04</td>\n",
       "      <td>0</td>\n",
       "      <td>NaN</td>\n",
       "      <td>H</td>\n",
       "    </tr>\n",
       "    <tr>\n",
       "      <th>4</th>\n",
       "      <td>2021-05-22</td>\n",
       "      <td>Hoffenheim</td>\n",
       "      <td>2</td>\n",
       "      <td>Hertha</td>\n",
       "      <td>1</td>\n",
       "      <td>NaN</td>\n",
       "      <td>H</td>\n",
       "    </tr>\n",
       "    <tr>\n",
       "      <th>...</th>\n",
       "      <td>...</td>\n",
       "      <td>...</td>\n",
       "      <td>...</td>\n",
       "      <td>...</td>\n",
       "      <td>...</td>\n",
       "      <td>...</td>\n",
       "      <td>...</td>\n",
       "    </tr>\n",
       "    <tr>\n",
       "      <th>301</th>\n",
       "      <td>2021-08-14</td>\n",
       "      <td>Stuttgart</td>\n",
       "      <td>5</td>\n",
       "      <td>Greuther Furth</td>\n",
       "      <td>1</td>\n",
       "      <td>NaN</td>\n",
       "      <td>H</td>\n",
       "    </tr>\n",
       "    <tr>\n",
       "      <th>302</th>\n",
       "      <td>2021-08-14</td>\n",
       "      <td>Union Berlin</td>\n",
       "      <td>1</td>\n",
       "      <td>Leverkusen</td>\n",
       "      <td>1</td>\n",
       "      <td>NaN</td>\n",
       "      <td>D</td>\n",
       "    </tr>\n",
       "    <tr>\n",
       "      <th>303</th>\n",
       "      <td>2021-08-14</td>\n",
       "      <td>Wolfsburg</td>\n",
       "      <td>1</td>\n",
       "      <td>Bochum</td>\n",
       "      <td>0</td>\n",
       "      <td>NaN</td>\n",
       "      <td>H</td>\n",
       "    </tr>\n",
       "    <tr>\n",
       "      <th>304</th>\n",
       "      <td>2021-08-14</td>\n",
       "      <td>Dortmund</td>\n",
       "      <td>5</td>\n",
       "      <td>Ein Frankfurt</td>\n",
       "      <td>2</td>\n",
       "      <td>NaN</td>\n",
       "      <td>H</td>\n",
       "    </tr>\n",
       "    <tr>\n",
       "      <th>305</th>\n",
       "      <td>2021-08-13</td>\n",
       "      <td>M'gladbach</td>\n",
       "      <td>1</td>\n",
       "      <td>Bayern Munich</td>\n",
       "      <td>1</td>\n",
       "      <td>NaN</td>\n",
       "      <td>D</td>\n",
       "    </tr>\n",
       "  </tbody>\n",
       "</table></div>"
      ],
      "text/plain": [
       "          Date           Home  Goals Home            Away  Goals Away  \\\n",
       "0   2021-05-22  Bayern Munich           5        Augsburg           2   \n",
       "1   2021-05-22       Dortmund           3      Leverkusen           1   \n",
       "2   2021-05-22  Ein Frankfurt           3        Freiburg           1   \n",
       "3   2021-05-22        FC Koln           1      Schalke 04           0   \n",
       "4   2021-05-22     Hoffenheim           2          Hertha           1   \n",
       "..         ...            ...         ...             ...         ...   \n",
       "301 2021-08-14      Stuttgart           5  Greuther Furth           1   \n",
       "302 2021-08-14   Union Berlin           1      Leverkusen           1   \n",
       "303 2021-08-14      Wolfsburg           1          Bochum           0   \n",
       "304 2021-08-14       Dortmund           5   Ein Frankfurt           2   \n",
       "305 2021-08-13     M'gladbach           1   Bayern Munich           1   \n",
       "\n",
       "     Referee Result  \n",
       "0        NaN     H   \n",
       "1        NaN     H   \n",
       "2        NaN     H   \n",
       "3        NaN     H   \n",
       "4        NaN     H   \n",
       "..       ...    ...  \n",
       "301      NaN     H   \n",
       "302      NaN     D   \n",
       "303      NaN     H   \n",
       "304      NaN     H   \n",
       "305      NaN     D   \n",
       "\n",
       "[612 rows x 7 columns]"
      ]
     },
     "execution_count": 14,
     "metadata": {},
     "output_type": "execute_result"
    }
   ],
   "source": [
    "df = pd.concat(data_Bundesliga)\n",
    "df.rename(columns={\"Unnamed: 2\": \"Goals Home\", \"Unnamed: 4\": \"Goals Away\"}, inplace=True)\n",
    "df"
   ]
  },
  {
   "cell_type": "code",
   "execution_count": 15,
   "metadata": {
    "slideshow": {
     "slide_type": "subslide"
    }
   },
   "outputs": [
    {
     "data": {
      "image/png": "[encoded data removed]",
      "text/plain": [
       "<Figure size 432x288 with 1 Axes>"
      ]
     },
     "metadata": {
      "needs_background": "light"
     },
     "output_type": "display_data"
    }
   ],
   "source": [
    "fig, ax = plt.subplots()\n",
    "ax.scatter(df.index, df[\"Goals Home\"], label=\"Goals Home\")\n",
    "ax.scatter(df.index, df[\"Goals Away\"], label=\"Goals Away\")\n",
    "ax.set(ylabel=\"Goals\", xlabel=\"Index\")\n",
    "ax.legend();"
   ]
  },
  {
   "cell_type": "code",
   "execution_count": 16,
   "metadata": {
    "slideshow": {
     "slide_type": "subslide"
    }
   },
   "outputs": [],
   "source": [
    "frequency_dist_home = np.unique(df[\"Goals Home\"], return_counts=True)\n",
    "frequency_dist_away = np.unique(df[\"Goals Away\"], return_counts=True)"
   ]
  },
  {
   "cell_type": "code",
   "execution_count": 17,
   "metadata": {
    "slideshow": {
     "slide_type": "subslide"
    }
   },
   "outputs": [
    {
     "data": {
      "image/png": "[encoded data removed]",
      "text/plain": [
       "<Figure size 432x288 with 1 Axes>"
      ]
     },
     "metadata": {
      "needs_background": "light"
     },
     "output_type": "display_data"
    }
   ],
   "source": [
    "n = 10000\n",
    "frequency_dist_poisson = np.unique(np.random.poisson(1.5, n), return_counts=True)\n",
    "\n",
    "fig, ax = plt.subplots()\n",
    "ax.plot(frequency_dist_home[0], frequency_dist_home[1]/len(df), marker=\"o\", ls=\"\", label=\"Goals Home\")\n",
    "ax.plot(frequency_dist_away[0], frequency_dist_away[1]/len(df), marker=\"o\", ls=\"\", label=\"Goals Away\")\n",
    "ax.plot(frequency_dist_poisson[0], frequency_dist_poisson[1]/n, marker=\"o\", ls=\"\", label=\"Poission\")\n",
    "\n",
    "ax.set(ylabel=\"Noralized Frequency\", xlabel=\"Number\")\n",
    "ax.legend();"
   ]
  },
  {
   "cell_type": "markdown",
   "metadata": {
    "slideshow": {
     "slide_type": "slide"
    }
   },
   "source": [
    "### Lambda-Wert der Poisson-Verteilung durch Fit ermitteln:"
   ]
  },
  {
   "cell_type": "code",
   "execution_count": 18,
   "metadata": {
    "slideshow": {
     "slide_type": "subslide"
    }
   },
   "outputs": [
    {
     "name": "stdout",
     "output_type": "stream",
     "text": [
      "Lambda für Heimmannschaft: 1.624\n",
      "Lambda für Auswärtsmannschaft: 1.286\n",
      "Mittlewert: 1.455\n"
     ]
    }
   ],
   "source": [
    "fit_home = scipy.optimize.curve_fit(poisson_func, frequency_dist_home[0], frequency_dist_home[1]/len(df))\n",
    "fit_away = scipy.optimize.curve_fit(poisson_func, frequency_dist_away[0], frequency_dist_away[1]/len(df))\n",
    "Lambda_mean = (fit_home[0]+fit_away[0])/2\n",
    "\n",
    "print(\"Lambda für Heimmannschaft: {0:.3f}\".format(float(fit_home[0])))\n",
    "print(\"Lambda für Auswärtsmannschaft: {0:.3f}\".format(float(fit_away[0])))\n",
    "print(\"Mittlewert: {0:.3f}\".format(float(Lambda_mean)))"
   ]
  },
  {
   "cell_type": "code",
   "execution_count": null,
   "metadata": {},
   "outputs": [],
   "source": []
  }
 ],
 "metadata": {
  "celltoolbar": "Slideshow",
  "kernelspec": {
   "display_name": "Python 3",
   "language": "python",
   "name": "python3"
  },
  "language_info": {
   "codemirror_mode": {
    "name": "ipython",
    "version": 3
   },
   "file_extension": ".py",
   "mimetype": "text/x-python",
   "name": "python",
   "nbconvert_exporter": "python",
   "pygments_lexer": "ipython3",
   "version": "3.8.5"
  },
  "latex_envs": {
   "LaTeX_envs_menu_present": true,
   "autoclose": true,
   "autocomplete": true,
   "bibliofile": "biblio.bib",
   "cite_by": "apalike",
   "current_citInitial": 1,
   "eqLabelWithNumbers": true,
   "eqNumInitial": 1,
   "hotkeys": {
    "equation": "Ctrl-E",
    "itemize": "Ctrl-I"
   },
   "labels_anchors": false,
   "latex_user_defs": false,
   "report_style_numbering": false,
   "user_envs_cfg": false
  },
  "toc": {
   "base_numbering": 1,
   "nav_menu": {},
   "number_sections": true,
   "sideBar": true,
   "skip_h1_title": false,
   "title_cell": "Table of Contents",
   "title_sidebar": "Contents",
   "toc_cell": false,
   "toc_position": {},
   "toc_section_display": true,
   "toc_window_display": false
  }
 },
 "nbformat": 4,
 "nbformat_minor": 4
}
