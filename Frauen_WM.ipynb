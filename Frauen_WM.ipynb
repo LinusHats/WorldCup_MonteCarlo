{
 "cells": [
  {
   "cell_type": "code",
   "execution_count": 21,
   "metadata": {},
   "outputs": [],
   "source": [
    "import pandas as pd\n",
    "import numpy as np\n",
    "import matplotlib.pyplot as plt\n",
    "from scipy.stats import poisson\n",
    "import itertools\n",
    "from tqdm.auto import tqdm, trange"
   ]
  },
  {
   "cell_type": "markdown",
   "metadata": {},
   "source": [
    "Die Simulation basiert auf einer Poisson-Verteilung, welche auf Basis eines Parameters $\\lambda$ die Eintrittswahrscheinlichkeit eines ganzzahligen Ereignisses angibt.\n",
    "$$P_\\lambda(k) = \\frac{\\lambda^k}{k!}\\exp{(-\\lambda)}$$\n",
    "in Python durch die Bibliothek `numpy.random` einfach zu realisieren. Dabei wir lediglich der parameter $\\lambda$ übergeben. Die Funktion gibt einen Wert zurück, für die Anzahl der Tore $k$. Wird diese Funktion mehrfach aufgerufen, wird eine Poisson-Verteilung erzeugt."
   ]
  },
  {
   "cell_type": "code",
   "execution_count": 22,
   "metadata": {},
   "outputs": [
    {
     "data": {
      "text/plain": [
       "Text(0, 0.5, 'Frequency')"
      ]
     },
     "execution_count": 22,
     "metadata": {},
     "output_type": "execute_result"
    },
    {
     "data": {
      "image/png": "[encoded data removed]",
      "text/plain": [
       "<Figure size 640x480 with 1 Axes>"
      ]
     },
     "metadata": {},
     "output_type": "display_data"
    }
   ],
   "source": [
    "## Demo Poisson-Verteilung\n",
    "poisson_list = []                                      # leere liste\n",
    "for i in range(5000):                                  # loop bis für i = 0 ... i = 5000\n",
    "    poisson_list.append(np.random.poisson(4))          # neuer Listeneintrag am Ende der Liste (\"Angehängt\")\n",
    "p, count = np.unique(poisson_list, return_counts=True) # Wie häufig kommt jede Zahl in der Liste vor (Frequency)\n",
    "plt.scatter(p, count/5000)                             # plot der Verteilung\n",
    "plt.xlabel(\"Number\")\n",
    "plt.ylabel(\"Frequency\")"
   ]
  },
  {
   "cell_type": "markdown",
   "metadata": {},
   "source": [
    "Ein `pandas.DataFrame` enthält die wichtigsten Informationen über die Teams wie Gruppenzugehörigkeit, Tore, Gegentore, Punkte etc. Die Rankings kommen aus dem Netz und müssen 'gescraped' werden. Die Gruppenzugehörigkeiten stehen in einer Excel-Datei \"Gruppierung.xlsx\" und werden mit der gescrapten Tabelle vereint..."
   ]
  },
  {
   "cell_type": "code",
   "execution_count": 23,
   "metadata": {},
   "outputs": [
    {
     "data": {
      "text/html": [
       "<div>\n",
       "<style scoped>\n",
       "    .dataframe tbody tr th:only-of-type {\n",
       "        vertical-align: middle;\n",
       "    }\n",
       "\n",
       "    .dataframe tbody tr th {\n",
       "        vertical-align: top;\n",
       "    }\n",
       "\n",
       "    .dataframe thead th {\n",
       "        text-align: right;\n",
       "    }\n",
       "</style>\n",
       "<table border=\"1\" class=\"dataframe\">\n",
       "  <thead>\n",
       "    <tr style=\"text-align: right;\">\n",
       "      <th></th>\n",
       "      <th>Team</th>\n",
       "      <th>FIFA_ranking</th>\n",
       "      <th>group</th>\n",
       "      <th>xG</th>\n",
       "      <th>games</th>\n",
       "      <th>win</th>\n",
       "      <th>loss</th>\n",
       "      <th>draw</th>\n",
       "      <th>Goals For</th>\n",
       "      <th>Goals Against</th>\n",
       "      <th>Points</th>\n",
       "      <th>Margin</th>\n",
       "    </tr>\n",
       "  </thead>\n",
       "  <tbody>\n",
       "    <tr>\n",
       "      <th>0</th>\n",
       "      <td>Panama</td>\n",
       "      <td>1482.32</td>\n",
       "      <td>F</td>\n",
       "      <td>1.864081</td>\n",
       "      <td>0</td>\n",
       "      <td>0</td>\n",
       "      <td>0</td>\n",
       "      <td>0</td>\n",
       "      <td>0</td>\n",
       "      <td>0</td>\n",
       "      <td>0</td>\n",
       "      <td>0</td>\n",
       "    </tr>\n",
       "    <tr>\n",
       "      <th>1</th>\n",
       "      <td>Zambia</td>\n",
       "      <td>1297.89</td>\n",
       "      <td>C</td>\n",
       "      <td>1.632152</td>\n",
       "      <td>0</td>\n",
       "      <td>0</td>\n",
       "      <td>0</td>\n",
       "      <td>0</td>\n",
       "      <td>0</td>\n",
       "      <td>0</td>\n",
       "      <td>0</td>\n",
       "      <td>0</td>\n",
       "    </tr>\n",
       "    <tr>\n",
       "      <th>2</th>\n",
       "      <td>Germany</td>\n",
       "      <td>2068.12</td>\n",
       "      <td>H</td>\n",
       "      <td>2.600750</td>\n",
       "      <td>0</td>\n",
       "      <td>0</td>\n",
       "      <td>0</td>\n",
       "      <td>0</td>\n",
       "      <td>0</td>\n",
       "      <td>0</td>\n",
       "      <td>0</td>\n",
       "      <td>0</td>\n",
       "    </tr>\n",
       "    <tr>\n",
       "      <th>3</th>\n",
       "      <td>France</td>\n",
       "      <td>2021.02</td>\n",
       "      <td>F</td>\n",
       "      <td>2.541519</td>\n",
       "      <td>0</td>\n",
       "      <td>0</td>\n",
       "      <td>0</td>\n",
       "      <td>0</td>\n",
       "      <td>0</td>\n",
       "      <td>0</td>\n",
       "      <td>0</td>\n",
       "      <td>0</td>\n",
       "    </tr>\n",
       "    <tr>\n",
       "      <th>4</th>\n",
       "      <td>South Africa</td>\n",
       "      <td>1471.84</td>\n",
       "      <td>G</td>\n",
       "      <td>1.850902</td>\n",
       "      <td>0</td>\n",
       "      <td>0</td>\n",
       "      <td>0</td>\n",
       "      <td>0</td>\n",
       "      <td>0</td>\n",
       "      <td>0</td>\n",
       "      <td>0</td>\n",
       "      <td>0</td>\n",
       "    </tr>\n",
       "  </tbody>\n",
       "</table>\n",
       "</div>"
      ],
      "text/plain": [
       "           Team  FIFA_ranking group        xG  games  win  loss  draw  \\\n",
       "0        Panama       1482.32     F  1.864081      0    0     0     0   \n",
       "1        Zambia       1297.89     C  1.632152      0    0     0     0   \n",
       "2       Germany       2068.12     H  2.600750      0    0     0     0   \n",
       "3        France       2021.02     F  2.541519      0    0     0     0   \n",
       "4  South Africa       1471.84     G  1.850902      0    0     0     0   \n",
       "\n",
       "   Goals For  Goals Against  Points  Margin  \n",
       "0          0              0       0       0  \n",
       "1          0              0       0       0  \n",
       "2          0              0       0       0  \n",
       "3          0              0       0       0  \n",
       "4          0              0       0       0  "
      ]
     },
     "execution_count": 23,
     "metadata": {},
     "output_type": "execute_result"
    }
   ],
   "source": [
    "# Durchschnittliche Tore pro Spiel = 2.64 [https://de.statista.com/statistik/daten/studie/160824/umfrage/tore-pro-spiel-bei-fussball-wm-seit-1930/#:~:text=Diese%20Statistik%20zeigt%20die%20Tore,2%2C64%20Tore%20pro%20Spiel.]\n",
    "df = pd.read_csv(\"WWC_with_grouping.csv\") # Daten laden\n",
    "df[\"xG\"] = df.FIFA_ranking/max(df.FIFA_ranking) * 2.63 # im Durchschnitt 2.63 Tore pro Spiel\n",
    "\n",
    "def reset_dataFrame(df = df):\n",
    "  '''\n",
    "  Reset aller Spielergebnisse\n",
    "  '''\n",
    "  df[\"games\"] = 0\n",
    "  df[\"win\"] = 0\n",
    "  df[\"loss\"] = 0\n",
    "  df[\"draw\"] = 0\n",
    "  df[\"Goals For\"] = 0\n",
    "  df[\"Goals Against\"] = 0\n",
    "  df[\"Points\"] = 0\n",
    "  df[\"Margin\"] = 0\n",
    "\n",
    "reset_dataFrame()\n",
    "df.head()                                                           # einmal schauen, ob alles geklappt hat"
   ]
  },
  {
   "cell_type": "markdown",
   "metadata": {},
   "source": [
    "## Modellierung der Spiele:\n",
    "Eine Funktion übernimmt die Spiele \"an sich\". Dazu werden einfach die Tore der Teams mit den vorher berechneten xG als Erwartungswert der Poisson-Funktion $\\lambda$ berechnet (`simulate_game`)\n",
    "\n",
    "Eine Weitere Funktion übernimmt das Updaten der des DataFrames (`game_data_in_Dataframe`)"
   ]
  },
  {
   "cell_type": "code",
   "execution_count": 24,
   "metadata": {},
   "outputs": [],
   "source": [
    "def simulate_game(team1_xG: float, team2_xG: float) -> list[int]:\n",
    "    '''\n",
    "    Utility Funktion zur Bestimmung der Tore beider Teams eines Spiels\n",
    "    '''\n",
    "    goals_t1 = np.random.poisson(team1_xG)\n",
    "    goals_t2 = np.random.poisson(team2_xG)\n",
    "    return [goals_t1, goals_t2]\n",
    "\n",
    "def game_data_in_Dataframe(team1: str, team2: str, goals_team1: int, goals_team2: int, dataFrame=df) -> None:\n",
    "    '''\n",
    "    Utility Funktion um die Spielergebnisse in das pandas.DataFrame einzupflegen\n",
    "    '''\n",
    "    dataFrame.loc[dataFrame.Team == team1, \"Goals For\"] += goals_team1\n",
    "    dataFrame.loc[dataFrame.Team == team1, \"Goals Against\"] += goals_team2\n",
    "    dataFrame.loc[dataFrame.Team == team2, \"Goals For\"] += goals_team2\n",
    "    dataFrame.loc[dataFrame.Team == team2, \"Goals Against\"] += goals_team1\n",
    "    dataFrame.loc[dataFrame.Team == team1, \"Margin\"] += goals_team1 - goals_team2\n",
    "    dataFrame.loc[dataFrame.Team == team2, \"Margin\"] += goals_team2 - goals_team1\n",
    "    if goals_team1 > goals_team2: # Team 1 gewinnt\n",
    "        dataFrame.loc[dataFrame.Team == team1, \"win\"] +=1\n",
    "        dataFrame.loc[dataFrame.Team == team2, \"loss\"] +=1\n",
    "    if goals_team1 < goals_team2: # Team 2 gewinnt\n",
    "        dataFrame.loc[dataFrame.Team == team1, \"loss\"] += 1\n",
    "        dataFrame.loc[dataFrame.Team == team2, \"win\"] += 1\n",
    "    if goals_team1 == goals_team2: # unentschieden\n",
    "        dataFrame.loc[dataFrame.Team == team1, \"draw\"] +=1\n",
    "        dataFrame.loc[dataFrame.Team == team2, \"draw\"] +=1\n",
    "    for team in [team1, team2]: # unabhängig vom Ergebnis...\n",
    "        dataFrame.loc[dataFrame.Team == team, \"games\"] +=1\n",
    "        dataFrame.loc[dataFrame.Team == team, \"Points\"] = dataFrame.loc[dataFrame.Team == team, \"win\"]*3 + dataFrame.loc[dataFrame.Team == team, \"draw\"]"
   ]
  },
  {
   "cell_type": "markdown",
   "metadata": {},
   "source": [
    "### Gruppenphase\n",
    "Nur die Spiele der Gruppenphase stehen fest, die restlichen ergeben sich aus deren Ergebnissen. Die Reihenfolge der Siele in der Gruppenphase ist dabei nicht relevant.\n",
    "________________\n",
    "\n",
    "Jede Mannschaft muss in der Gruppenphase gegen jede andere Mannschaft einmal Spielen. Die Funktion `itertools.combinations` erzeugt eine Liste aller möglichen Kombinationen der Mannschaften:"
   ]
  },
  {
   "cell_type": "code",
   "execution_count": 25,
   "metadata": {},
   "outputs": [],
   "source": [
    "def games_group_stage(group):\n",
    "    '''\n",
    "    Simulation aller Spiele innerhalb einer Gruppe\n",
    "    '''\n",
    "    for t in itertools.combinations(df.loc[df.group == group].Team,2):\n",
    "        team1, team2 = str(t[0]), str(t[1])\n",
    "        xG_team1 = df.loc[df.Team == team1].xG\n",
    "        xG_team2 = df.loc[df.Team == team2].xG\n",
    "        goals_team1, goals_team2 = simulate_game(xG_team1, xG_team2)\n",
    "        game_data_in_Dataframe(team1, team2, goals_team1, goals_team2)"
   ]
  },
  {
   "cell_type": "markdown",
   "metadata": {},
   "source": [
    "Für die Nächste Spielphase, das Achtelfinale werden die Gewinner und die Zweiten der Gruppenphase gebraucht. Diese werden wie folgt ermittelt:\n",
    "<ol>\n",
    "<li> Teams mit den Meisten Punkten\n",
    "<ol>\n",
    "<li> Pro gewonnenem Spiel gibt es 3 Punkte\n",
    "<li> Pro unentschiedenem Spiel gibt es 1 Punkt \n",
    "<li> Pro verlorenem Spiel gibt es 0 Punkte\n",
    "</ol>\n",
    "<li> Teams mit der größten Tordifferenz\n",
    "<li> Teams mit den meisten Toren aus allen Spielen der Gruppenphase\n",
    "</ol>"
   ]
  },
  {
   "cell_type": "code",
   "execution_count": 26,
   "metadata": {},
   "outputs": [],
   "source": [
    "def winner_group_phase(group_name: str):\n",
    "    '''\n",
    "    Funktion zur Ermittlung des Gewinnerteams einer Gruppe\n",
    "    '''\n",
    "    group_data = df.loc[df.group == group_name]                                                                     # Verglichen werden die Teams innerhalb einer Gruppe\n",
    "    sorted_by_points = group_data.sort_values(by=\"Points\", ascending=False)                                         # Sortieren nach Punkten (absteigend)\n",
    "    winner = \"\"\n",
    "    if len(sorted_by_points[sorted_by_points[\"Points\"] == sorted_by_points[\"Points\"].iloc[0]]) == 1:                # Wenn der höchste Wert bezüglich Punkte nur 1 mal vorkommt, steht der Gewinner fest\n",
    "            winner = sorted_by_points.iloc[0]\n",
    "    else:\n",
    "            possible_winners = sorted_by_points[sorted_by_points[\"Points\"] == sorted_by_points[\"Points\"].iloc[0]]   # Falls es mehrere Gewinner nach Punkten gibt, werden die punktgleichen Teams \n",
    "            sorted_by_margin = possible_winners.sort_values(by=\"Margin\", ascending=False)                           # nach Tordifferenz absteigend sortiert\n",
    "            if len(sorted_by_margin[sorted_by_margin[\"Margin\"] == sorted_by_margin[\"Margin\"].iloc[0]]) == 1:        # wenn der höchste Wett nur ein mal vorkommt, steht der Gewinner fest\n",
    "                    winner = sorted_by_margin.iloc[0]\n",
    "            else:\n",
    "                    sorted_by_goals_for = possible_winners.sort_values(by=\"Goals For\", ascending=False)             # Falls auch die Bedingung oben scheitert, wird nach Geschossenen Toren geschaut\n",
    "                    winner = sorted_by_goals_for.iloc[0]                                                            # Der Erste in dieser Liste gewinnt das...eigentlich müsste danach noch nach gelben Karten usw. geschaut werden...\n",
    "    return winner\n",
    "\n",
    "def second_group_phase(group_name: str):\n",
    "    '''\n",
    "    Funktion zur Ermittlung des zweit platzierten Teams einer Gruppe\n",
    "    '''\n",
    "    group_data = df.loc[df.group == group_name]\n",
    "    second = \"\"\n",
    "    sorted_by_points = group_data.sort_values(by=\"Points\", ascending=False)                                                                                             # Sortieren nach Punkten\n",
    "    if len(sorted_by_points[sorted_by_points[\"Points\"] == sorted_by_points[\"Points\"].max()]) > 1:                                                                       # Wenn mehr als einer höchste Punkte hat, hat der Gruppen Zweite die gleiche Punktzahl wie der Gruppen Erste\n",
    "            sorted_by_margin = sorted_by_points[sorted_by_points[\"Points\"] == sorted_by_points[\"Points\"].max()].sort_values(by=\"Margin\", ascending=False)               # Dann wird wieder nach Differenz geschaut\n",
    "            if len(sorted_by_margin[sorted_by_margin[\"Margin\"] == sorted_by_margin[\"Margin\"].max]) > 1:\n",
    "                    sorted_by_goals_for = sorted_by_margin[sorted_by_margin[\"Margin\"] == sorted_by_margin[\"Margin\"].max].sort_values(by=\"Goals For\", ascending=False)   # Dann nach geschossenen Toren\n",
    "                    second = sorted_by_goals_for.iloc[1]                                                                                                                # Wenn alle die Kriterien nicht ausreichen, wird halt der Zweite dieser Liste zweiter...\n",
    "            else: \n",
    "                second = sorted_by_margin.iloc[1]                                                                                                                       # Sonst Zweites Element der Liste zweiter\n",
    "    else:\n",
    "        second = sorted_by_points.iloc[1]\n",
    "    return second"
   ]
  },
  {
   "cell_type": "markdown",
   "metadata": {},
   "source": [
    "### Achtelfinale\n",
    "Im Achtelfinale gibt es kein Unentschieden mehr! In der Simulation wird das Spiel einfach wiederholt...<br>\n",
    "Das Achtelfinale gestaltet sich folgendermaßen:\n",
    "\n",
    "Spiel | Team 1 | Team 2 |\n",
    "------|--------|--------|\n",
    "1 | Gewinner A | Zweite B|\n",
    "2 | Gewinner C | Zweite D|\n",
    "3 | Gewinner E | Zweite F|\n",
    "4 | Gewinner G | Zweite H|\n",
    "5 | Gewinner B | Zweite A|\n",
    "6 | Gewinner D | Zweite C|\n",
    "7 | Gewinner F | Zweite E|\n",
    "8 | Gewinner H | Zweite G|\n"
   ]
  },
  {
   "cell_type": "code",
   "execution_count": 27,
   "metadata": {},
   "outputs": [],
   "source": [
    "def games_not_group_stage(names_team1: list[str], names_team2: list[str], winners_list):\n",
    "    '''\n",
    "    Funktion zur Simulation von Spielen außerhalb der Gruppenphase\n",
    "    Params:\n",
    "    names_team1: Alle Namen der Teams1 in der Reihenfolge der Spiele\n",
    "    names_team2: Alle Namen der Teams2 in der Reihenfolge der Spiele\n",
    "    Return:\n",
    "    winners_list: Liste mit den Namen der Gewinner der Spiele\n",
    "    '''\n",
    "    for name_team1, name_team2 in zip(names_team1, names_team2):\n",
    "        xG_team1 = df.loc[df.Team == name_team1].xG                         # Auslesen der xG beider Teams\n",
    "        xG_team2 = df.loc[df.Team == name_team2].xG\n",
    "        goals_team1, goals_team2 = simulate_game(xG_team1, xG_team2)        # Spiel Simulieren\n",
    "        if goals_team1 == goals_team2:                                      # Kein Unentschieden erlaubt!\n",
    "            goals_team1, goals_team2 = simulate_game(xG_team1, xG_team2)    # Spiel wiederholen\n",
    "        if goals_team1 > goals_team2:\n",
    "            winners_list.append(name_team1)\n",
    "        else:\n",
    "            winners_list.append(name_team2)\n",
    "        game_data_in_Dataframe(name_team1, name_team2, goals_team1, goals_team2)"
   ]
  },
  {
   "cell_type": "markdown",
   "metadata": {},
   "source": [
    "Der Folgende CodeBlock ruft jetzt die oben definierten Funktionen in der korrekten Reihenfolge auf:"
   ]
  },
  {
   "cell_type": "code",
   "execution_count": 28,
   "metadata": {},
   "outputs": [
    {
     "name": "stderr",
     "output_type": "stream",
     "text": [
      "100%|██████████| 1000/1000 [06:30<00:00,  2.56it/s]\n"
     ]
    }
   ],
   "source": [
    "number_of_simulated_games = 1000\n",
    "winner = []                                                                        # Array um die Gewinnerteams dokumentieren zu können\n",
    "for j in trange(1000):                                                             # Wie oft soll der Worldcup simuliert werden?\n",
    "    reset_dataFrame()                                                              # SpielDaten zurücksetzten\n",
    "    for team in df.group.unique():\n",
    "        games_group_stage(team)                                                    # Spiele der Gruppenphase simulieren\n",
    "    grouping = [\"AB\", \"CD\", \"EF\", \"GH\", \"BA\", \"DC\", \"FE\", \"HG\"]\n",
    "    list_names_team1 = [winner_group_phase(letter[0]).Team for letter in grouping] # Vorbereiten der Listen für das Achtelfinale\n",
    "    list_names_team2 = [second_group_phase(letter[1]).Team for letter in grouping]\n",
    "    winners_round_of_16 = []\n",
    "    games_not_group_stage(list_names_team1,\n",
    "                          list_names_team2,\n",
    "                          winners_round_of_16)                                     # Simulation Achtelfinale\n",
    "\n",
    "    list_names_team1_quarter = [winners_round_of_16[i] for i in [0,2,4,6]]         # 0 ggn. 1, 2 ggn. 3...\n",
    "    list_names_team2_quarter = [winners_round_of_16[i] for i in [1,3,5,7]]\n",
    "    winners_quarter_finals = []\n",
    "    games_not_group_stage(list_names_team1_quarter,\n",
    "                          list_names_team2_quarter,\n",
    "                          winners_quarter_finals)                                  # Simulation Viertelfinale\n",
    "\n",
    "    list_names_team1_semi = [winners_quarter_finals[i] for i in [0,2]]             # 0 ggn. 1, 2 ggn. 3...\n",
    "    list_names_team2_semi = [winners_quarter_finals[i] for i in [1,3]]\n",
    "    winners_semi_finals = []\n",
    "    games_not_group_stage(list_names_team1_semi,\n",
    "                          list_names_team2_semi,\n",
    "                          winners_semi_finals)                                     # Simulation Halbfinale\n",
    "\n",
    "    list_names_team1_final = [winners_semi_finals[i] for i in [0]]\n",
    "    list_names_team2_final = [winners_semi_finals[i] for i in [1]]\n",
    "    winner_finals = []\n",
    "    games_not_group_stage(list_names_team1_final,\n",
    "                          list_names_team2_final,\n",
    "                          winner_finals)\n",
    "\n",
    "    winner.append(winner_finals[0])                                                # Dokumentation Gewinner\n",
    "    # df.to_csv(f\"games/game_{j}.csv\", index=False)                                # Wer will kann jetzt Daten in großen Mengen produzieren^^"
   ]
  },
  {
   "cell_type": "markdown",
   "metadata": {},
   "source": [
    "## Auswertung"
   ]
  },
  {
   "cell_type": "code",
   "execution_count": 29,
   "metadata": {},
   "outputs": [],
   "source": [
    "value, count = np.unique(winner, return_counts=True)\n",
    "stats = pd.DataFrame()\n",
    "stats[\"Team\"] = value\n",
    "stats[\"win_count\"] = count\n",
    "stats.sort_values(by=\"win_count\", ascending=False, inplace=True)"
   ]
  },
  {
   "cell_type": "code",
   "execution_count": 30,
   "metadata": {},
   "outputs": [
    {
     "data": {
      "image/png": "[encoded data removed]",
      "text/plain": [
       "<Figure size 640x480 with 1 Axes>"
      ]
     },
     "metadata": {},
     "output_type": "display_data"
    }
   ],
   "source": [
    "plt.bar(stats.Team, stats.win_count/number_of_simulated_games*100)\n",
    "plt.ylabel(\"Win probability\")\n",
    "plt.xticks(rotation=90);"
   ]
  },
  {
   "cell_type": "code",
   "execution_count": null,
   "metadata": {},
   "outputs": [],
   "source": []
  }
 ],
 "metadata": {
  "kernelspec": {
   "display_name": "Python 3 (ipykernel)",
   "language": "python",
   "name": "python3"
  },
  "language_info": {
   "codemirror_mode": {
    "name": "ipython",
    "version": 3
   },
   "file_extension": ".py",
   "mimetype": "text/x-python",
   "name": "python",
   "nbconvert_exporter": "python",
   "pygments_lexer": "ipython3",
   "version": "3.11.4"
  },
  "vscode": {
   "interpreter": {
    "hash": "ad2bdc8ecc057115af97d19610ffacc2b4e99fae6737bb82f5d7fb13d2f2c186"
   }
  }
 },
 "nbformat": 4,
 "nbformat_minor": 4
}
