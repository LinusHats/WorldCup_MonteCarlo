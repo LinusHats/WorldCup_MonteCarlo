{
 "cells": [
  {
   "cell_type": "code",
   "execution_count": 1,
   "metadata": {},
   "outputs": [],
   "source": [
    "import pandas as pd\n",
    "import numpy as np\n",
    "import matplotlib.pyplot as plt\n",
    "from scipy.stats import poisson\n",
    "import itertools"
   ]
  },
  {
   "cell_type": "markdown",
   "metadata": {},
   "source": [
    "Die Simulation basiert auf einer Poisson-Verteilung, welche auf Basis eines Parameters $\\lambda$ die Eintrittswahrscheinlichkeit eines ganzzahligen Ereignisses angibt.\n",
    "$$P_\\lambda(k) = \\frac{\\lambda^k}{k!}\\exp{(-\\lambda)}$$\n",
    "in Python durch die Bibliothek `numpy.random` einfach zu realisieren. Dabei wir lediglich der parameter $\\lambda$ übergeben. Die Funktion gibt einen Wert zurück, für die Anzahl der Tore $k$. Wird diese Funktion mehrfach aufgerufen, wird eine Poisson-Verteilung erzeugt."
   ]
  },
  {
   "cell_type": "code",
   "execution_count": 2,
   "metadata": {},
   "outputs": [
    {
     "data": {
      "text/plain": [
       "Text(0, 0.5, 'Frequency')"
      ]
     },
     "execution_count": 2,
     "metadata": {},
     "output_type": "execute_result"
    },
    {
     "data": {
      "image/png": "[encoded data removed]",
      "text/plain": [
       "<Figure size 432x288 with 1 Axes>"
      ]
     },
     "metadata": {
      "needs_background": "light"
     },
     "output_type": "display_data"
    }
   ],
   "source": [
    "## Demo Poisson-Verteilung\n",
    "poisson_list = []                                      # leere liste\n",
    "for i in range(5000):                                  # loop bis für i = 0 ... i = 5000\n",
    "    poisson_list.append(np.random.poisson(4))          # neuer Listeneintrag am Ende der Liste (\"Angehängt\")\n",
    "p, count = np.unique(poisson_list, return_counts=True) # Wie häufig kommt jede Zahl in der Liste vor (Frequency)\n",
    "plt.scatter(p, count/5000)                             # plot der Verteilung\n",
    "plt.xlabel(\"Number\")\n",
    "plt.ylabel(\"Frequency\")"
   ]
  },
  {
   "cell_type": "markdown",
   "metadata": {},
   "source": [
    "Ein `pandas.DataFrame` enthält die wichtigsten Informationen über die Teams wie Gruppenzugehörigkeit, Tore, Gegentore, Punkte etc. Die Rankings kommen aus dem Netz und müssen 'gescraped' werden. Die Gruppenzugehörigkeiten stehen in einer Excel-Datei \"Gruppierung.xlsx\" und werden mit der gescrapten Tabelle vereint..."
   ]
  },
  {
   "cell_type": "code",
   "execution_count": 3,
   "metadata": {},
   "outputs": [
    {
     "data": {
      "text/html": [
       "<div><div id=f291e0b2-cf2e-4956-8f5a-99eeef4bd2ab style=\"display:none; background-color:#9D6CFF; color:white; width:200px; height:30px; padding-left:5px; border-radius:4px; flex-direction:row; justify-content:space-around; align-items:center;\" onmouseover=\"this.style.backgroundColor='#BA9BF8'\" onmouseout=\"this.style.backgroundColor='#9D6CFF'\" onclick=\"window.commands?.execute('create-mitosheet-from-dataframe-output');\">See Full Dataframe in Mito</div> <script> if (window.commands.hasCommand('create-mitosheet-from-dataframe-output')) document.getElementById('f291e0b2-cf2e-4956-8f5a-99eeef4bd2ab').style.display = 'flex' </script> <table border=\"1\" class=\"dataframe\">\n",
       "  <thead>\n",
       "    <tr style=\"text-align: right;\">\n",
       "      <th></th>\n",
       "      <th>Team</th>\n",
       "      <th>group</th>\n",
       "      <th>FIFA_ranking</th>\n",
       "      <th>xG</th>\n",
       "      <th>games</th>\n",
       "      <th>win</th>\n",
       "      <th>loss</th>\n",
       "      <th>draw</th>\n",
       "      <th>Goals For</th>\n",
       "      <th>Goals Against</th>\n",
       "      <th>Points</th>\n",
       "      <th>Margin</th>\n",
       "    </tr>\n",
       "  </thead>\n",
       "  <tbody>\n",
       "    <tr>\n",
       "      <th>0</th>\n",
       "      <td>Qatar</td>\n",
       "      <td>A</td>\n",
       "      <td>1441.41</td>\n",
       "      <td>2.070856</td>\n",
       "      <td>0</td>\n",
       "      <td>0</td>\n",
       "      <td>0</td>\n",
       "      <td>0</td>\n",
       "      <td>0</td>\n",
       "      <td>0</td>\n",
       "      <td>0</td>\n",
       "      <td>0</td>\n",
       "    </tr>\n",
       "    <tr>\n",
       "      <th>1</th>\n",
       "      <td>Ecuador</td>\n",
       "      <td>A</td>\n",
       "      <td>1463.74</td>\n",
       "      <td>2.102937</td>\n",
       "      <td>0</td>\n",
       "      <td>0</td>\n",
       "      <td>0</td>\n",
       "      <td>0</td>\n",
       "      <td>0</td>\n",
       "      <td>0</td>\n",
       "      <td>0</td>\n",
       "      <td>0</td>\n",
       "    </tr>\n",
       "    <tr>\n",
       "      <th>2</th>\n",
       "      <td>Senegal</td>\n",
       "      <td>A</td>\n",
       "      <td>1593.45</td>\n",
       "      <td>2.289290</td>\n",
       "      <td>0</td>\n",
       "      <td>0</td>\n",
       "      <td>0</td>\n",
       "      <td>0</td>\n",
       "      <td>0</td>\n",
       "      <td>0</td>\n",
       "      <td>0</td>\n",
       "      <td>0</td>\n",
       "    </tr>\n",
       "    <tr>\n",
       "      <th>3</th>\n",
       "      <td>Netherlands</td>\n",
       "      <td>A</td>\n",
       "      <td>1679.41</td>\n",
       "      <td>2.412788</td>\n",
       "      <td>0</td>\n",
       "      <td>0</td>\n",
       "      <td>0</td>\n",
       "      <td>0</td>\n",
       "      <td>0</td>\n",
       "      <td>0</td>\n",
       "      <td>0</td>\n",
       "      <td>0</td>\n",
       "    </tr>\n",
       "    <tr>\n",
       "      <th>4</th>\n",
       "      <td>England</td>\n",
       "      <td>B</td>\n",
       "      <td>1737.46</td>\n",
       "      <td>2.496188</td>\n",
       "      <td>0</td>\n",
       "      <td>0</td>\n",
       "      <td>0</td>\n",
       "      <td>0</td>\n",
       "      <td>0</td>\n",
       "      <td>0</td>\n",
       "      <td>0</td>\n",
       "      <td>0</td>\n",
       "    </tr>\n",
       "  </tbody>\n",
       "</table></div>"
      ],
      "text/plain": [
       "          Team group  FIFA_ranking        xG  games  win  loss  draw  \\\n",
       "0        Qatar     A       1441.41  2.070856      0    0     0     0   \n",
       "1      Ecuador     A       1463.74  2.102937      0    0     0     0   \n",
       "2      Senegal     A       1593.45  2.289290      0    0     0     0   \n",
       "3  Netherlands     A       1679.41  2.412788      0    0     0     0   \n",
       "4      England     B       1737.46  2.496188      0    0     0     0   \n",
       "\n",
       "   Goals For  Goals Against  Points  Margin  \n",
       "0          0              0       0       0  \n",
       "1          0              0       0       0  \n",
       "2          0              0       0       0  \n",
       "3          0              0       0       0  \n",
       "4          0              0       0       0  "
      ]
     },
     "execution_count": 3,
     "metadata": {},
     "output_type": "execute_result"
    }
   ],
   "source": [
    "import requests\n",
    "url = \"https://us.soccerway.com/teams/rankings/fifa/\"               # URL einer Website mit Team-Rankings\n",
    "\n",
    "header = {\n",
    "  \"User-Agent\": \"Mozilla/5.0 (X11; Linux x86_64) AppleWebKit/537.36 (KHTML, like Gecko) Chrome/50.0.2661.75 Safari/537.36\",\n",
    "  \"X-Requested-With\": \"XMLHttpRequest\"\n",
    "} \n",
    "\n",
    "r = requests.get(url, headers=header)\n",
    "df = pd.read_html(r.text)                                           # scraping der Webseite\n",
    "df = df[0]                                                          # nur Tabelle 1 von Relevanz \n",
    "df.drop(columns=[\"Unnamed: 3\", \"Change\", \"#\"],axis=1, inplace=True) # Aufräumen\n",
    "# df.to_csv(\"FIFA_Rankings_2022.csv\", index=False)                  # Speichern\n",
    "df.rename(columns={\"Points\": \"FIFA_ranking\"}, inplace=True)         # Umbenennen ausgewählter Spalten\n",
    "\n",
    "\n",
    "# Durchschnittliche Tore pro Spiel = 2.64 [https://de.statista.com/statistik/daten/studie/160824/umfrage/tore-pro-spiel-bei-fussball-wm-seit-1930/#:~:text=Diese%20Statistik%20zeigt%20die%20Tore,2%2C64%20Tore%20pro%20Spiel.]\n",
    "df[\"xG\"] = df.FIFA_ranking/df.FIFA_ranking.max() * 2.64             # Umrechnen der FIFA-Points in xG\n",
    "grouping = pd.read_excel(\"Gruppierung.xlsx\")                        # Einlesen der Gruppierungen für die Gruppenphase\n",
    "df = pd.merge(grouping, df)                                         # Zusammenführen der Tabellen, sodass alle Daten in \"df\" zu finden sind\n",
    "df.rename(columns={\"Gruppe\": \"group\"}, inplace=True)\n",
    "\n",
    "\n",
    "def reset_dataFrame(df = df):\n",
    "  '''\n",
    "  Reset aller Spielergebnisse\n",
    "  '''\n",
    "  df[\"games\"] = 0\n",
    "  df[\"win\"] = 0\n",
    "  df[\"loss\"] = 0\n",
    "  df[\"draw\"] = 0\n",
    "  df[\"Goals For\"] = 0\n",
    "  df[\"Goals Against\"] = 0\n",
    "  df[\"Points\"] = 0\n",
    "  df[\"Margin\"] = 0\n",
    "\n",
    "reset_dataFrame()\n",
    "df.head()                                                           # einmal schauen, ob alles geklappt hat"
   ]
  },
  {
   "cell_type": "markdown",
   "metadata": {},
   "source": [
    "## Modellierung der Spiele:\n",
    "Eine Funktion übernimmt die Spiele \"an sich\". Dazu werden einfach die Tore der Teams mit den vorher berechneten xG als Erwartungswert der Poisson-Funktion $\\lambda$ berechnet (`simulate_game`)\n",
    "\n",
    "Eine Weitere Funktion übernimmt das Updaten der des DataFrames (`game_data_in_Dataframe`)"
   ]
  },
  {
   "cell_type": "code",
   "execution_count": 4,
   "metadata": {},
   "outputs": [],
   "source": [
    "def simulate_game(team1_xG: float, team2_xG: float) -> list[int]:\n",
    "    '''\n",
    "    Utility Funktion zur Bestimmung der Tore beider Teams eines Spiels\n",
    "    '''\n",
    "    goals_t1 = np.random.poisson(team1_xG)\n",
    "    goals_t2 = np.random.poisson(team2_xG)\n",
    "    return [goals_t1, goals_t2]\n",
    "\n",
    "def game_data_in_Dataframe(team1: str, team2: str, goals_team1: int, goals_team2: int, dataFrame=df) -> None:\n",
    "    '''\n",
    "    Utility Funktion um die Spielergebnisse in das pandas.DataFrame einzupflegen\n",
    "    '''\n",
    "    dataFrame.loc[dataFrame.Team == team1, \"Goals For\"] += goals_team1\n",
    "    dataFrame.loc[dataFrame.Team == team1, \"Goals Against\"] += goals_team2\n",
    "    dataFrame.loc[dataFrame.Team == team2, \"Goals For\"] += goals_team2\n",
    "    dataFrame.loc[dataFrame.Team == team2, \"Goals Against\"] += goals_team1\n",
    "    dataFrame.loc[dataFrame.Team == team1, \"Margin\"] += goals_team1 - goals_team2\n",
    "    dataFrame.loc[dataFrame.Team == team2, \"Margin\"] += goals_team2 - goals_team1\n",
    "    if goals_team1 > goals_team2: # Team 1 gewinnt\n",
    "        dataFrame.loc[dataFrame.Team == team1, \"win\"] +=1\n",
    "        dataFrame.loc[dataFrame.Team == team2, \"loss\"] +=1\n",
    "    if goals_team1 < goals_team2: # Team 2 gewinnt\n",
    "        dataFrame.loc[dataFrame.Team == team1, \"loss\"] += 1\n",
    "        dataFrame.loc[dataFrame.Team == team2, \"win\"] += 1\n",
    "    if goals_team1 == goals_team2: # unentschieden\n",
    "        dataFrame.loc[dataFrame.Team == team1, \"draw\"] +=1\n",
    "        dataFrame.loc[dataFrame.Team == team2, \"draw\"] +=1\n",
    "    for team in [team1, team2]: # unabhängig vom Ergebnis...\n",
    "        dataFrame.loc[dataFrame.Team == team, \"games\"] +=1\n",
    "        dataFrame.loc[dataFrame.Team == team, \"Points\"] = dataFrame.loc[dataFrame.Team == team, \"win\"]*3 + dataFrame.loc[dataFrame.Team == team, \"draw\"]"
   ]
  },
  {
   "cell_type": "markdown",
   "metadata": {},
   "source": [
    "### Gruppenphase\n",
    "Nur die Spiele der Gruppenphase stehen fest, die restlichen ergeben sich aus deren Ergebnissen. Die Reihenfolge der Siele in der Gruppenphase ist dabei nicht relevant.\n",
    "________________\n",
    "\n",
    "Jede Mannschaft muss in der Gruppenphase gegen jede andere Mannschaft einmal Spielen. Die Funktion `itertools.combinations` erzeugt eine Liste aller möglichen Kombinationen der Mannschaften:"
   ]
  },
  {
   "cell_type": "code",
   "execution_count": 5,
   "metadata": {},
   "outputs": [],
   "source": [
    "def games_group_stage(group):\n",
    "    '''\n",
    "    Simulation aller Spiele innerhalb einer Gruppe\n",
    "    '''\n",
    "    for t in itertools.combinations(df.loc[df.group == group].Team,2):\n",
    "        team1, team2 = str(t[0]), str(t[1])\n",
    "        xG_team1 = df.loc[df.Team == team1].xG\n",
    "        xG_team2 = df.loc[df.Team == team2].xG\n",
    "        goals_team1, goals_team2 = simulate_game(xG_team1, xG_team2)\n",
    "        game_data_in_Dataframe(team1, team2, goals_team1, goals_team2)"
   ]
  },
  {
   "cell_type": "markdown",
   "metadata": {},
   "source": [
    "Für die Nächste Spielphase, das Achtelfinale werden die Gewinner und die Zweiten der Gruppenphase gebraucht. Diese werden wie folgt ermittelt:\n",
    "<ol>\n",
    "<li> Teams mit den Meisten Punkten\n",
    "<ol>\n",
    "<li> Pro gewonnenem Spiel gibt es 3 Punkte\n",
    "<li> Pro unentschiedenem Spiel gibt es 1 Punkt \n",
    "<li> Pro verlorenem Spiel gibt es 0 Punkte\n",
    "</ol>\n",
    "<li> Teams mit der größten Tordifferenz\n",
    "<li> Teams mit den meisten Toren aus allen Spielen der Gruppenphase\n",
    "</ol>"
   ]
  },
  {
   "cell_type": "code",
   "execution_count": 6,
   "metadata": {},
   "outputs": [],
   "source": [
    "def winner_group_phase(group_name: str):\n",
    "    '''\n",
    "    Funktion zur Ermittlung des Gewinnerteams einer Gruppe\n",
    "    '''\n",
    "    group_data = df.loc[df.group == group_name]                                                                     # Verglichen werden die Teams innerhalb einer Gruppe\n",
    "    sorted_by_points = group_data.sort_values(by=\"Points\", ascending=False)                                         # Sortieren nach Punkten (absteigend)\n",
    "    winner = \"\"\n",
    "    if len(sorted_by_points[sorted_by_points[\"Points\"] == sorted_by_points[\"Points\"].iloc[0]]) == 1:                # Wenn der höchste Wert bezüglich Punkte nur 1 mal vorkommt, steht der Gewinner fest\n",
    "            winner = sorted_by_points.iloc[0]\n",
    "    else:\n",
    "            possible_winners = sorted_by_points[sorted_by_points[\"Points\"] == sorted_by_points[\"Points\"].iloc[0]]   # Falls es mehrere Gewinner nach Punkten gibt, werden die punktgleichen Teams \n",
    "            sorted_by_margin = possible_winners.sort_values(by=\"Margin\", ascending=False)                           # nach Tordifferenz absteigend sortiert\n",
    "            if len(sorted_by_margin[sorted_by_margin[\"Margin\"] == sorted_by_margin[\"Margin\"].iloc[0]]) == 1:        # wenn der höchste Wett nur ein mal vorkommt, steht der Gewinner fest\n",
    "                    winner = sorted_by_margin.iloc[0]\n",
    "            else:\n",
    "                    sorted_by_goals_for = possible_winners.sort_values(by=\"Goals For\", ascending=False)             # Falls auch die Bedingung oben scheitert, wird nach Geschossenen Toren geschaut\n",
    "                    winner = sorted_by_goals_for.iloc[0]                                                            # Der Erste in dieser Liste gewinnt das...eigentlich müsste danach noch nach gelben Karten usw. geschaut werden...\n",
    "    return winner\n",
    "\n",
    "def second_group_phase(group_name: str):\n",
    "    '''\n",
    "    Funktion zur Ermittlung des zweit platzierten Teams einer Gruppe\n",
    "    '''\n",
    "    group_data = df.loc[df.group == group_name]\n",
    "    second = \"\"\n",
    "    sorted_by_points = group_data.sort_values(by=\"Points\", ascending=False)                                                                                             # Sortieren nach Punkten\n",
    "    if len(sorted_by_points[sorted_by_points[\"Points\"] == sorted_by_points[\"Points\"].max()]) > 1:                                                                       # Wenn mehr als einer höchste Punkte hat, hat der Gruppen Zweite die gleiche Punktzahl wie der Gruppen Erste\n",
    "            sorted_by_margin = sorted_by_points[sorted_by_points[\"Points\"] == sorted_by_points[\"Points\"].max()].sort_values(by=\"Margin\", ascending=False)               # Dann wird wieder nach Differenz geschaut\n",
    "            if len(sorted_by_margin[sorted_by_margin[\"Margin\"] == sorted_by_margin[\"Margin\"].max]) > 1:\n",
    "                    sorted_by_goals_for = sorted_by_margin[sorted_by_margin[\"Margin\"] == sorted_by_margin[\"Margin\"].max].sort_values(by=\"Goals For\", ascending=False)   # Dann nach geschossenen Toren\n",
    "                    second = sorted_by_goals_for.iloc[1]                                                                                                                # Wenn alle die Kriterien nicht ausreichen, wird halt der Zweite dieser Liste zweiter...\n",
    "            else: \n",
    "                second = sorted_by_margin.iloc[1]                                                                                                                       # Sonst Zweites Element der Liste zweiter\n",
    "    else:\n",
    "        second = sorted_by_points.iloc[1]\n",
    "    return second"
   ]
  },
  {
   "cell_type": "markdown",
   "metadata": {},
   "source": [
    "### Achtelfinale\n",
    "Im Achtelfinale gibt es kein Unentschieden mehr! In der Simulation wird das Spiel einfach wiederholt...<br>\n",
    "Das Achtelfinale gestaltet sich folgendermaßen:\n",
    "\n",
    "Spiel | Team 1 | Team 2 |\n",
    "------|--------|--------|\n",
    "1 | Gewinner A | Zweite B|\n",
    "2 | Gewinner C | Zweite D|\n",
    "3 | Gewinner E | Zweite F|\n",
    "4 | Gewinner G | Zweite H|\n",
    "5 | Gewinner B | Zweite A|\n",
    "6 | Gewinner D | Zweite C|\n",
    "7 | Gewinner F | Zweite E|\n",
    "8 | Gewinner H | Zweite G|\n"
   ]
  },
  {
   "cell_type": "code",
   "execution_count": 7,
   "metadata": {},
   "outputs": [],
   "source": [
    "def games_not_group_stage(names_team1: list[str], names_team2: list[str], winners_list):\n",
    "    '''\n",
    "    Funktion zur Simulation von Spielen außerhalb der Gruppenphase\n",
    "    Params:\n",
    "    names_team1: Alle Namen der Teams1 in der Reihenfolge der Spiele\n",
    "    names_team2: Alle Namen der Teams2 in der Reihenfolge der Spiele\n",
    "    Return:\n",
    "    winners_list: Liste mit den Namen der Gewinner der Spiele\n",
    "    '''\n",
    "    for name_team1, name_team2 in zip(names_team1, names_team2):\n",
    "        xG_team1 = df.loc[df.Team == name_team1].xG                         # Auslesen der xG beider Teams\n",
    "        xG_team2 = df.loc[df.Team == name_team2].xG\n",
    "        goals_team1, goals_team2 = simulate_game(xG_team1, xG_team2)        # Spiel Simulieren\n",
    "        if goals_team1 == goals_team2:                                      # Kein Unentschieden erlaubt!\n",
    "            goals_team1, goals_team2 = simulate_game(xG_team1, xG_team2)    # Spiel wiederholen\n",
    "        if goals_team1 > goals_team2:\n",
    "            winners_list.append(name_team1)\n",
    "        else:\n",
    "            winners_list.append(name_team2)\n",
    "        game_data_in_Dataframe(name_team1, name_team2, goals_team1, goals_team2)"
   ]
  },
  {
   "cell_type": "markdown",
   "metadata": {},
   "source": [
    "Der Folgende CodeBlock ruft jetzt die oben definierten Funktionen in der korrekten Reihenfolge auf:"
   ]
  },
  {
   "cell_type": "code",
   "execution_count": 8,
   "metadata": {},
   "outputs": [],
   "source": [
    "winner = []                                                                        # Array um die Gewinnerteams dokumentieren zu können\n",
    "for j in range(100):                                                               # Wie oft soll der Worldcup simuliert werden?\n",
    "    reset_dataFrame()                                                              # SpielDaten zurücksetzten\n",
    "    for team in df.group.unique():\n",
    "        games_group_stage(team)                                                    # Spiele der Gruppenphase simulieren\n",
    "    grouping = [\"AB\", \"CD\", \"EF\", \"GH\", \"BA\", \"DC\", \"FE\", \"HG\"]\n",
    "    list_names_team1 = [winner_group_phase(letter[0]).Team for letter in grouping] # Vorbereiten der Listen für das Achtelfinale\n",
    "    list_names_team2 = [second_group_phase(letter[1]).Team for letter in grouping]\n",
    "    winners_round_of_16 = []\n",
    "    games_not_group_stage(list_names_team1,\n",
    "                          list_names_team2,\n",
    "                          winners_round_of_16)                                     # Simulation Achtelfinale\n",
    "\n",
    "    list_names_team1_quarter = [winners_round_of_16[i] for i in [0,2,4,6]]         # 0 ggn. 1, 2 ggn. 3...\n",
    "    list_names_team2_quarter = [winners_round_of_16[i] for i in [1,3,5,7]]\n",
    "    winners_quarter_finals = []\n",
    "    games_not_group_stage(list_names_team1_quarter,\n",
    "                          list_names_team2_quarter,\n",
    "                          winners_quarter_finals)                                  # Simulation Viertelfinale\n",
    "\n",
    "    list_names_team1_semi = [winners_quarter_finals[i] for i in [0,2]]             # 0 ggn. 1, 2 ggn. 3...\n",
    "    list_names_team2_semi = [winners_quarter_finals[i] for i in [1,3]]\n",
    "    winners_semi_finals = []\n",
    "    games_not_group_stage(list_names_team1_semi,\n",
    "                          list_names_team2_semi,\n",
    "                          winners_semi_finals)                                     # Simulation Halbfinale\n",
    "\n",
    "    list_names_team1_final = [winners_semi_finals[i] for i in [0]]\n",
    "    list_names_team2_final = [winners_semi_finals[i] for i in [1]]\n",
    "    winner_finals = []\n",
    "    games_not_group_stage(list_names_team1_final,\n",
    "                          list_names_team2_final,\n",
    "                          winner_finals)\n",
    "\n",
    "    winner.append(winner_finals[0])                                                # Dokumentation Gewinner\n",
    "    # df.to_csv(f\"games/game_{j}.csv\", index=False)                                # Wer will kann jetzt Daten in großen Mengen produzieren^^"
   ]
  },
  {
   "cell_type": "markdown",
   "metadata": {},
   "source": [
    "## Auswertung\n",
    "Hier kann man sicher einiges machen......"
   ]
  },
  {
   "cell_type": "code",
   "execution_count": 9,
   "metadata": {},
   "outputs": [],
   "source": [
    "value, count = np.unique(winner, return_counts=True)\n",
    "stats = pd.DataFrame()\n",
    "stats[\"Team\"] = value\n",
    "stats[\"win_count\"] = count\n",
    "stats.sort_values(by=\"win_count\", ascending=False, inplace=True)"
   ]
  },
  {
   "cell_type": "code",
   "execution_count": 10,
   "metadata": {},
   "outputs": [
    {
     "data": {
      "image/png": "[encoded data removed]",
      "text/plain": [
       "<Figure size 432x288 with 1 Axes>"
      ]
     },
     "metadata": {
      "needs_background": "light"
     },
     "output_type": "display_data"
    }
   ],
   "source": [
    "import seaborn as sns\n",
    "plt.plot(stats.Team, stats.win_count, marker=\"o\")\n",
    "plt.xticks(rotation=90);"
   ]
  }
 ],
 "metadata": {
  "kernelspec": {
   "display_name": "Python 3 (ipykernel)",
   "language": "python",
   "name": "python3"
  },
  "language_info": {
   "codemirror_mode": {
    "name": "ipython",
    "version": 3
   },
   "file_extension": ".py",
   "mimetype": "text/x-python",
   "name": "python",
   "nbconvert_exporter": "python",
   "pygments_lexer": "ipython3",
   "version": "3.9.7"
  },
  "vscode": {
   "interpreter": {
    "hash": "ad2bdc8ecc057115af97d19610ffacc2b4e99fae6737bb82f5d7fb13d2f2c186"
   }
  }
 },
 "nbformat": 4,
 "nbformat_minor": 4
}
